{
 "cells": [
  {
   "cell_type": "markdown",
   "metadata": {},
   "source": [
    "### Connect libraries"
   ]
  },
  {
   "cell_type": "code",
   "execution_count": 1,
   "metadata": {},
   "outputs": [],
   "source": [
    "import petl as etl\n",
    "from freshdesk.api import API"
   ]
  },
  {
   "cell_type": "markdown",
   "metadata": {},
   "source": [
    "### Connect to Freshdesk"
   ]
  },
  {
   "cell_type": "code",
   "execution_count": 2,
   "metadata": {},
   "outputs": [
    {
     "name": "stdout",
     "output_type": "stream",
     "text": [
      "\n",
      "            Freshdesk has deprecated their V1 API from 1st July, 2018.\n",
      "            For more info, visit https://support.freshdesk.com/support/solutions/articles/231955-important-deprecation-of-api-v1\n",
      "            \n",
      "            For more info about freshdesk V2 API, visit https://developers.freshdesk.com/api/\n",
      "            \n",
      "            Now python-freshdesk library will by default return V2 API client. You need to migrate your project accordingly.\n",
      "            \n",
      "            \n",
      "        \n"
     ]
    }
   ],
   "source": [
    "a = API('yourname.freshdesk.com', 'gj34pg98hyatoken')"
   ]
  },
  {
   "cell_type": "markdown",
   "metadata": {},
   "source": [
    "### Get contacts and agents"
   ]
  },
  {
   "cell_type": "code",
   "execution_count": 3,
   "metadata": {},
   "outputs": [],
   "source": [
    "contacts = a.contacts.list_contacts()\n",
    "agents = a.agents.list_agents()"
   ]
  },
  {
   "cell_type": "markdown",
   "metadata": {},
   "source": [
    "### Transform"
   ]
  },
  {
   "cell_type": "code",
   "execution_count": 36,
   "metadata": {},
   "outputs": [],
   "source": [
    "contacts_array = [] # one mutual list for agents and contacts"
   ]
  },
  {
   "cell_type": "code",
   "execution_count": 37,
   "metadata": {},
   "outputs": [],
   "source": [
    "for c in contacts: \n",
    "    contacts_array.append({'id': c.id,\n",
    "                         'name': c.name,\n",
    "                         'email': c.email,                    \n",
    "                         'company_name': c.email.split(\"@\")[1].split(\".\")[0].capitalize(),\n",
    "                         'isAgent': False, # это кастомное поле, во фрешдеске его нет\n",
    "                         'isOccasional': None, # Только для агентов\n",
    "                                                                     \n",
    "                         })"
   ]
  },
  {
   "cell_type": "markdown",
   "metadata": {},
   "source": [
    " ###### *В питон библиотеке для фрешдеска нет функционала получения компаний, поэтому нужно получать напрямую у Фрешдескам POST запросами, например, используя библиотеку requests. Пока для скорости просто берем имя компании из email от @ до первой точки и делаем его с заглавной буквы.*"
   ]
  },
  {
   "cell_type": "code",
   "execution_count": 38,
   "metadata": {},
   "outputs": [],
   "source": [
    "for a in agents: \n",
    "    contacts_array.append({'id': a.id,\n",
    "                         'name': a.contact['name'],\n",
    "                         'email': a.contact['email'],\n",
    "                         'company_name': None, # у агентов нет компании\n",
    "                         'isAgent': True, # это кастомное поле, во фрешдеске его нет\n",
    "                         'isOccasional': a.occasional,\n",
    "                                                                     \n",
    "                         })"
   ]
  },
  {
   "cell_type": "code",
   "execution_count": 43,
   "metadata": {},
   "outputs": [],
   "source": [
    "table = etl.fromdicts(contacts_array, header=['id','name', 'email', 'company_name', 'isAgent', 'isOccasional'])"
   ]
  },
  {
   "cell_type": "markdown",
   "metadata": {},
   "source": [
    "### Export to Excel"
   ]
  },
  {
   "cell_type": "code",
   "execution_count": 44,
   "metadata": {},
   "outputs": [],
   "source": [
    "etl.toxlsx(table, 'contacts.xlsx')"
   ]
  }
 ],
 "metadata": {
  "kernelspec": {
   "display_name": "Python 3",
   "language": "python",
   "name": "python3"
  },
  "language_info": {
   "codemirror_mode": {
    "name": "ipython",
    "version": 3
   },
   "file_extension": ".py",
   "mimetype": "text/x-python",
   "name": "python",
   "nbconvert_exporter": "python",
   "pygments_lexer": "ipython3",
   "version": "3.8.3"
  }
 },
 "nbformat": 4,
 "nbformat_minor": 4
}
