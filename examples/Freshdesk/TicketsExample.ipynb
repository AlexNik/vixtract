{
 "cells": [
  {
   "cell_type": "markdown",
   "metadata": {},
   "source": [
    "### Connect libraries"
   ]
  },
  {
   "cell_type": "code",
   "execution_count": 32,
   "metadata": {},
   "outputs": [],
   "source": [
    "import petl as etl\n",
    "from freshdesk.api import API\n",
    "from datetime import date"
   ]
  },
  {
   "cell_type": "markdown",
   "metadata": {},
   "source": [
    "### Connect to Freshdesk"
   ]
  },
  {
   "cell_type": "code",
   "execution_count": 4,
   "metadata": {
    "scrolled": true
   },
   "outputs": [
    {
     "name": "stdout",
     "output_type": "stream",
     "text": [
      "\n",
      "            Freshdesk has deprecated their V1 API from 1st July, 2018.\n",
      "            For more info, visit https://support.freshdesk.com/support/solutions/articles/231955-important-deprecation-of-api-v1\n",
      "            \n",
      "            For more info about freshdesk V2 API, visit https://developers.freshdesk.com/api/\n",
      "            \n",
      "            Now python-freshdesk library will by default return V2 API client. You need to migrate your project accordingly.\n",
      "            \n",
      "            \n",
      "        \n"
     ]
    }
   ],
   "source": [
    "a = API('yourname.freshdesk.com', 'gj34pg98hyatoken')"
   ]
  },
  {
   "cell_type": "markdown",
   "metadata": {},
   "source": [
    "### Get tickets"
   ]
  },
  {
   "cell_type": "code",
   "execution_count": 64,
   "metadata": {},
   "outputs": [],
   "source": [
    "tickets = a.tickets.list_tickets(updated_since='2015-01-01', filter_name=None)"
   ]
  },
  {
   "cell_type": "markdown",
   "metadata": {},
   "source": [
    "### Put into an array"
   ]
  },
  {
   "cell_type": "code",
   "execution_count": 78,
   "metadata": {},
   "outputs": [],
   "source": [
    "tickets_array = []\n",
    "for t in tickets:   \n",
    "    tickets_array.append({'id': t.id,\n",
    "                          'subject':t.subject,\n",
    "                          #'company_id': t.company_id,\n",
    "                          'created_at': t.created_at.date(),\n",
    "                          'due_by': t.due_by, # в отличие от created_at это просто строка. Ну и так сойдет.\n",
    "                          'fr_due_by': t.fr_due_by, # Снова строка, ну ок\n",
    "                          'priority': t.priority,\n",
    "                          'requester_id': t.requester_id,\n",
    "                          'responder_id': t.responder_id,\n",
    "                          'status': t.status,\n",
    "                          'type': t.type,\n",
    "                          'source': a.tickets.get_ticket(t.id)._source,\n",
    "                          'tags': ' '.join(t.tags),\n",
    "                          'description_text': a.tickets.get_ticket(t.id).description_text,                                                 \n",
    "                         })"
   ]
  },
  {
   "cell_type": "markdown",
   "metadata": {},
   "source": [
    "### Make a table from the array"
   ]
  },
  {
   "cell_type": "code",
   "execution_count": 79,
   "metadata": {},
   "outputs": [],
   "source": [
    "table1 = etl.fromdicts(tickets_array, header=['id','subject', 'due_by', 'fr_due_by',\n",
    "                                             'priority', 'requester_id', 'responder_id', 'status',\n",
    "                                             'type', 'source', 'tags', 'description_text', 'created_at' ])"
   ]
  },
  {
   "cell_type": "markdown",
   "metadata": {},
   "source": [
    "### Trasform the table"
   ]
  },
  {
   "cell_type": "markdown",
   "metadata": {},
   "source": [
    "###### *Снова ограничение: python библиотека отдает не коды статусов тикета, а сразу расшифровки. Причем неправильно расшифровывает кастомные статусы. Так что нужно забирать напрямую у Freshdesk. Пока просто неправильные кастомные статусы будут переименованы вручную, их немного.*"
   ]
  },
  {
   "cell_type": "code",
   "execution_count": 80,
   "metadata": {},
   "outputs": [],
   "source": [
    "table2 = etl.convert(table1, 'status', {'status_8': 'В ожидании третьей стороны',\n",
    "                                        'status_9': 'Тестирование',\n",
    "                                        'status_10': 'В разработке',\n",
    "                                        'status_11': 'Запланирована удаленная сессия',\n",
    "                                       })"
   ]
  },
  {
   "cell_type": "markdown",
   "metadata": {},
   "source": [
    "### Export to Excel"
   ]
  },
  {
   "cell_type": "code",
   "execution_count": 81,
   "metadata": {},
   "outputs": [],
   "source": [
    "etl.toxlsx(table2, 'tickets.xlsx')"
   ]
  }
 ],
 "metadata": {
  "kernelspec": {
   "display_name": "Python 3",
   "language": "python",
   "name": "python3"
  },
  "language_info": {
   "codemirror_mode": {
    "name": "ipython",
    "version": 3
   },
   "file_extension": ".py",
   "mimetype": "text/x-python",
   "name": "python",
   "nbconvert_exporter": "python",
   "pygments_lexer": "ipython3",
   "version": "3.8.3"
  }
 },
 "nbformat": 4,
 "nbformat_minor": 4
}
