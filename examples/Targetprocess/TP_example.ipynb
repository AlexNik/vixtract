{
 "cells": [
  {
   "cell_type": "code",
   "execution_count": 91,
   "metadata": {},
   "outputs": [],
   "source": [
    "import petl as etl\n",
    "from targetprocess.api import TargetProcessAPIClient\n",
    "from targetprocess.serializers import TargetProcessSerializer"
   ]
  },
  {
   "cell_type": "code",
   "execution_count": 92,
   "metadata": {},
   "outputs": [],
   "source": [
    "tp = TargetProcessAPIClient(api_url='https://name.tpondemand.com/api/v1/', user='user@site.com', password='123')"
   ]
  },
  {
   "cell_type": "code",
   "execution_count": 93,
   "metadata": {},
   "outputs": [],
   "source": [
    "request_json = tp.get_collection(collection=\"Release\", take = 1000,include=\"[Name,StartDate,EndDate,Project]\" )\n",
    "ListJson = TargetProcessSerializer.deserialize(request_json)  "
   ]
  },
  {
   "cell_type": "code",
   "execution_count": null,
   "metadata": {},
   "outputs": [],
   "source": []
  },
  {
   "cell_type": "code",
   "execution_count": 94,
   "metadata": {},
   "outputs": [],
   "source": [
    "Rtable1 = etl.fromdicts(ListJson, header=['Name','StartDate', 'EndDate','Project'])\n",
    "Rtable2 = etl.addfield(Rtable1, 'Type', lambda row: row['Project']['Name'])\n",
    "Rtable3 = etl.cutout(Rtable2, 'Project')\n",
    "Rtable4 = etl.select(Rtable3,lambda rec: rec.Type != 'Flipbox' and rec.Name != 'Priority Backlog') "
   ]
  },
  {
   "cell_type": "code",
   "execution_count": 95,
   "metadata": {},
   "outputs": [],
   "source": [
    "RList = etl.dicts(Rtable4)\n",
    "ReleaseList = list(RList)"
   ]
  },
  {
   "cell_type": "code",
   "execution_count": null,
   "metadata": {},
   "outputs": [],
   "source": []
  },
  {
   "cell_type": "code",
   "execution_count": 96,
   "metadata": {},
   "outputs": [],
   "source": [
    "request_json2 = tp.get_collection(collection=\"Requests\", take = 10000000,include=\"[Id,Name,RequestType,CreateDate]\")\n",
    "ListJson2 = TargetProcessSerializer.deserialize(request_json2)"
   ]
  },
  {
   "cell_type": "code",
   "execution_count": 97,
   "metadata": {},
   "outputs": [],
   "source": [
    "Rqtable1 = etl.fromdicts(ListJson2, header=['Id','CreateDate', 'RequestType', 'Name'])\n",
    "Rqtable2 = etl.addfield(Rqtable1, 'Type', lambda row: row['RequestType']['Name'])\n",
    "Rqtable3 = etl.cut(Rqtable2, 'Id', 'CreateDate','Name','Type')\n",
    "Rqtable4 = etl.select(Rqtable3,lambda rec: rec.Type == 'Ошибка')"
   ]
  },
  {
   "cell_type": "code",
   "execution_count": 98,
   "metadata": {},
   "outputs": [],
   "source": [
    "table5 = etl.addfield(Rqtable4, 'Release', lambda row: [ r['Name'] for r in ReleaseList if (r['StartDate']<row['CreateDate']<r['EndDate'])])\n"
   ]
  },
  {
   "cell_type": "code",
   "execution_count": 99,
   "metadata": {},
   "outputs": [],
   "source": [
    "table6 = etl.convert(table5,'Release', lambda v:v[0] if v==v else '' )\n"
   ]
  },
  {
   "cell_type": "code",
   "execution_count": 100,
   "metadata": {},
   "outputs": [],
   "source": [
    "etl.toxlsx(table6,'BugListWithRelease.xlsx')"
   ]
  }
 ],
 "metadata": {
  "kernelspec": {
   "display_name": "Python (Prod Env)",
   "language": "python",
   "name": "prod"
  },
  "language_info": {
   "codemirror_mode": {
    "name": "ipython",
    "version": 3
   },
   "file_extension": ".py",
   "mimetype": "text/x-python",
   "name": "python",
   "nbconvert_exporter": "python",
   "pygments_lexer": "ipython3",
   "version": "3.6.10"
  }
 },
 "nbformat": 4,
 "nbformat_minor": 4
}
