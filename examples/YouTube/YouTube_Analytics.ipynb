{
 "cells": [
  {
   "cell_type": "code",
   "execution_count": 1,
   "id": "front-consolidation",
   "metadata": {},
   "outputs": [
    {
     "output_type": "error",
     "ename": "ModuleNotFoundError",
     "evalue": "No module named 'googleapiclient'",
     "traceback": [
      "\u001b[1;31m---------------------------------------------------------------------------\u001b[0m",
      "\u001b[1;31mModuleNotFoundError\u001b[0m                       Traceback (most recent call last)",
      "\u001b[1;32m<ipython-input-1-9aa55bc4d712>\u001b[0m in \u001b[0;36m<module>\u001b[1;34m\u001b[0m\n\u001b[1;32m----> 1\u001b[1;33m \u001b[1;32mfrom\u001b[0m \u001b[0mgoogleapiclient\u001b[0m\u001b[1;33m.\u001b[0m\u001b[0mdiscovery\u001b[0m \u001b[1;32mimport\u001b[0m \u001b[0mbuild\u001b[0m \u001b[1;31m# для получения информации по API\u001b[0m\u001b[1;33m\u001b[0m\u001b[1;33m\u001b[0m\u001b[0m\n\u001b[0m\u001b[0;32m      2\u001b[0m \u001b[1;32mimport\u001b[0m \u001b[0mpetl\u001b[0m \u001b[1;32mas\u001b[0m \u001b[0metl\u001b[0m \u001b[1;31m# для загрузки и обработки данных\u001b[0m\u001b[1;33m\u001b[0m\u001b[1;33m\u001b[0m\u001b[0m\n\u001b[0;32m      3\u001b[0m \u001b[1;32mimport\u001b[0m \u001b[0mpandas\u001b[0m \u001b[1;32mas\u001b[0m \u001b[0mpd\u001b[0m \u001b[1;31m# для выгрузки таблицы в postgresql\u001b[0m\u001b[1;33m\u001b[0m\u001b[1;33m\u001b[0m\u001b[0m\n\u001b[0;32m      4\u001b[0m \u001b[1;32mimport\u001b[0m \u001b[0msqlalchemy\u001b[0m \u001b[1;31m# для создания подключения к базе данных\u001b[0m\u001b[1;33m\u001b[0m\u001b[1;33m\u001b[0m\u001b[0m\n\u001b[0;32m      5\u001b[0m \u001b[1;32mimport\u001b[0m \u001b[0mre\u001b[0m \u001b[1;31m# регулярные выражения\u001b[0m\u001b[1;33m\u001b[0m\u001b[1;33m\u001b[0m\u001b[0m\n",
      "\u001b[1;31mModuleNotFoundError\u001b[0m: No module named 'googleapiclient'"
     ]
    }
   ],
   "source": [
    "from googleapiclient.discovery import build # для получения информации по API\n",
    "import petl as etl # для загрузки и обработки данных\n",
    "import pandas as pd # для выгрузки таблицы в postgresql\n",
    "import sqlalchemy # для создания подключения к базе данных\n",
    "import re # регулярные выражения"
   ]
  },
  {
   "cell_type": "code",
   "execution_count": null,
   "id": "employed-cleaner",
   "metadata": {},
   "outputs": [],
   "source": [
    "youTubeApiKey = 'BIrandomsimbolsandnothingmoredudes_4bvOtzFsA' # API из аккаунта google \n",
    "youtube = build('youtube', 'v3', developerKey=youTubeApiKey) # Создание объекта, используя YouTube Data API v3"
   ]
  },
  {
   "cell_type": "code",
   "execution_count": null,
   "id": "paperback-australia",
   "metadata": {},
   "outputs": [],
   "source": [
    "channel_id = 'UC8LNafdLZNKqs3lbV5xAtNA' # id канала\n",
    "content = youtube.channels().list(part='contentDetails', id = channel_id).execute() # получение детальной информации о канале"
   ]
  },
  {
   "cell_type": "code",
   "execution_count": null,
   "id": "satellite-electronics",
   "metadata": {},
   "outputs": [],
   "source": [
    "playlistId = content['items'][0]['contentDetails']['relatedPlaylists']['uploads'] # id плейлиста загруженных видео"
   ]
  },
  {
   "cell_type": "code",
   "execution_count": null,
   "id": "sophisticated-monitor",
   "metadata": {},
   "outputs": [],
   "source": [
    "allvideos = [] # список с видео"
   ]
  },
  {
   "cell_type": "code",
   "execution_count": null,
   "id": "outside-elevation",
   "metadata": {},
   "outputs": [],
   "source": [
    "nextPage_token = None"
   ]
  },
  {
   "cell_type": "code",
   "execution_count": null,
   "id": "generic-wyoming",
   "metadata": {},
   "outputs": [],
   "source": [
    "res = youtube.playlistItems().list(playlistId = playlistId, maxResults = 100, part = 'snippet', pageToken = nextPage_token).execute()\n",
    "allvideos += res['items']\n",
    "nextPage_token = res.get('nextPageToken')"
   ]
  },
  {
   "cell_type": "code",
   "execution_count": null,
   "id": "provincial-feeling",
   "metadata": {},
   "outputs": [],
   "source": [
    "# добавление оставшихся видео в список\n",
    "while nextPage_token is not None:\n",
    "    res = youtube.playlistItems().list(playlistId = playlistId, maxResults = 100, part = 'snippet', pageToken = nextPage_token).execute()\n",
    "    allvideos += res['items']\n",
    "    nextPage_token = res.get('nextPageToken')"
   ]
  },
  {
   "cell_type": "code",
   "execution_count": null,
   "id": "baking-plane",
   "metadata": {},
   "outputs": [],
   "source": [
    "video_ids = list(map(lambda x: x['snippet']['resourceId']['videoId'], allvideos)) # получение id видео"
   ]
  },
  {
   "cell_type": "code",
   "execution_count": null,
   "id": "executed-store",
   "metadata": {},
   "outputs": [],
   "source": [
    "# получение статистики видеозаписей по их id\n",
    "stats = []\n",
    "for i in range(0, len(video_ids), 40):\n",
    "    res = youtube.videos().list(id=','.join(video_ids[i:i+40]), part='statistics').execute()\n",
    "    stats += res['items']"
   ]
  },
  {
   "cell_type": "code",
   "execution_count": null,
   "id": "human-violin",
   "metadata": {},
   "outputs": [],
   "source": [
    "channel_stats = youtube.channels().list(part='statistics', id = channel_id).execute() # получение статистики канала"
   ]
  },
  {
   "cell_type": "code",
   "execution_count": null,
   "id": "incomplete-geology",
   "metadata": {},
   "outputs": [],
   "source": [
    "subscriberCount = channel_stats['items'][0]['statistics']['subscriberCount'] # количество подписчиков"
   ]
  },
  {
   "cell_type": "code",
   "execution_count": null,
   "id": "coral-uniform",
   "metadata": {},
   "outputs": [],
   "source": [
    "def links_remove(link):\n",
    "    pattern = r'http\\S+'\n",
    "    match = re.findall(pattern, link)\n",
    "    for m in match:\n",
    "        url = m[:8]\n",
    "        link = link.replace(url, '')\n",
    "    return link"
   ]
  },
  {
   "cell_type": "code",
   "execution_count": null,
   "id": "published-beginning",
   "metadata": {},
   "outputs": [],
   "source": [
    "data = []\n",
    "# создание словаря со статистикой\n",
    "for _videos, _stats in zip(allvideos, stats):\n",
    "    row = {\n",
    "        'title': _videos['snippet']['title'],\n",
    "        'videoIDs': _videos['snippet']['resourceId']['videoId'],\n",
    "        'video_description': links_remove(_videos['snippet']['description']),\n",
    "        'publishedDate': _videos['snippet']['publishedAt'],\n",
    "        'liked': _stats['statistics']['likeCount'],\n",
    "        'disliked': _stats['statistics']['dislikeCount'],\n",
    "        'views': _stats['statistics']['viewCount'],\n",
    "        'comment': _stats['statistics']['commentCount']\n",
    "    }\n",
    "    data.append(row)"
   ]
  },
  {
   "cell_type": "code",
   "execution_count": null,
   "id": "commercial-guatemala",
   "metadata": {},
   "outputs": [],
   "source": [
    "table = etl.fromdicts(data) # создание petl таблицы"
   ]
  },
  {
   "cell_type": "code",
   "execution_count": null,
   "id": "outer-batman",
   "metadata": {},
   "outputs": [],
   "source": [
    "table = etl.addfield(table,'subscriberCount', subscriberCount)"
   ]
  },
  {
   "cell_type": "code",
   "execution_count": null,
   "id": "liked-privilege",
   "metadata": {},
   "outputs": [],
   "source": [
    "table.toxlsx('YT_statistics.xlsx', mode='overwrite') # экспорт в Excel файл"
   ]
  },
  {
   "cell_type": "code",
   "execution_count": null,
   "id": "frank-headquarters",
   "metadata": {},
   "outputs": [],
   "source": [
    "engine = sqlalchemy.create_engine('postgresql://{user}:{user_password}@{url}:{port}/{database_name}') # подключение к базе данных"
   ]
  },
  {
   "cell_type": "code",
   "execution_count": null,
   "id": "reverse-snowboard",
   "metadata": {},
   "outputs": [],
   "source": [
    "df = pd.DataFrame(columns=table[0], data=table[1:]) # создание DataFrame из petl-таблицы"
   ]
  },
  {
   "cell_type": "code",
   "execution_count": null,
   "id": "electronic-float",
   "metadata": {},
   "outputs": [],
   "source": [
    "# экспорт в базу данных\n",
    "df.to_sql('yt_analytics', engine, index=False, if_exists='replace', dtype={\n",
    "    'title': sqlalchemy.VARCHAR(100),\n",
    "    'videoIDs': sqlalchemy.VARCHAR(50),\n",
    "    'video_description': sqlalchemy.Text(),\n",
    "    'publishedDate': sqlalchemy.Date(),\n",
    "    'liked': sqlalchemy.Integer(),\n",
    "    'disliked': sqlalchemy.Integer(),\n",
    "    'views': sqlalchemy.Integer(),\n",
    "    'comment': sqlalchemy.Integer(),\n",
    "    'subscriberCount': sqlalchemy.Integer()\n",
    "})"
   ]
  },
  {
   "cell_type": "code",
   "execution_count": null,
   "id": "apart-huntington",
   "metadata": {},
   "outputs": [],
   "source": []
  }
 ],
 "metadata": {
  "kernelspec": {
   "name": "python394jvsc74a57bd0edb06063c0613ae6f2723c690c5ea7062d0c104f7fb14483b139fb474145e8b7",
   "display_name": "Python 3.9.4 64-bit"
  },
  "language_info": {
   "codemirror_mode": {
    "name": "ipython",
    "version": 3
   },
   "file_extension": ".py",
   "mimetype": "text/x-python",
   "name": "python",
   "nbconvert_exporter": "python",
   "pygments_lexer": "ipython3",
   "version": "3.9.4"
  },
  "metadata": {
   "interpreter": {
    "hash": "edb06063c0613ae6f2723c690c5ea7062d0c104f7fb14483b139fb474145e8b7"
   }
  }
 },
 "nbformat": 4,
 "nbformat_minor": 5
}