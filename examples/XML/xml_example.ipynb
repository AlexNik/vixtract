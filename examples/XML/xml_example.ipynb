{
 "cells": [
  {
   "cell_type": "code",
   "execution_count": 1,
   "id": "mediterranean-success",
   "metadata": {},
   "outputs": [],
   "source": [
    "import petl as etl # для загрузки и обработки данных\n",
    "import pandas as pd # для выгрузки таблицы в postgresql\n",
    "import sqlalchemy # для создания подключения к базе данных"
   ]
  },
  {
   "cell_type": "code",
   "execution_count": 2,
   "id": "metropolitan-institute",
   "metadata": {},
   "outputs": [],
   "source": [
    "# формируем таблицу petl из XML файла\n",
    "table = etl.fromxml('books.xml', 'row', {\n",
    "    'name': 'name', \n",
    "    'title': 'title', \n",
    "    'publication': 'publication', \n",
    "    'downloads':'downloads', \n",
    "    'words':'words', \n",
    "    'Last_name_letter': 'Last_name_letter'\n",
    "})"
   ]
  },
  {
   "cell_type": "code",
   "execution_count": 11,
   "id": "floating-castle",
   "metadata": {},
   "outputs": [],
   "source": [
    "table.toxlsx('xml_example.xlsx', mode='overwrite') # экспорт в Excel файл"
   ]
  },
  {
   "cell_type": "code",
   "execution_count": 14,
   "id": "included-melissa",
   "metadata": {},
   "outputs": [],
   "source": [
    "engine = sqlalchemy.create_engine('postgresql://{user}:{user_password}@{url}:{port}/{database_name}') # подключение к базе данных"
   ]
  },
  {
   "cell_type": "code",
   "execution_count": 16,
   "id": "wrong-corporation",
   "metadata": {},
   "outputs": [],
   "source": [
    "df = pd.DataFrame(columns=table[0], data=table[1:]) # создание DataFrame из petl-таблицы"
   ]
  },
  {
   "cell_type": "code",
   "execution_count": 18,
   "id": "improved-cancer",
   "metadata": {},
   "outputs": [],
   "source": [
    "# экспорт в базу данных\n",
    "df.to_sql('books_xml', engine, index=False, if_exists='replace', dtype={\n",
    "    'name': sqlalchemy.VARCHAR(50),\n",
    "    'title': sqlalchemy.VARCHAR(255),\n",
    "    'downloads': sqlalchemy.Integer(),\n",
    "    'words': sqlalchemy.Integer(),\n",
    "    'publication': sqlalchemy.Date(),\n",
    "    'Last_name_letter': sqlalchemy.CHAR()\n",
    "})"
   ]
  },
  {
   "cell_type": "code",
   "execution_count": null,
   "id": "catholic-indonesian",
   "metadata": {},
   "outputs": [],
   "source": []
  }
 ],
 "metadata": {
  "kernelspec": {
   "display_name": "Python (Dev Env)",
   "language": "python",
   "name": "dev"
  },
  "language_info": {
   "codemirror_mode": {
    "name": "ipython",
    "version": 3
   },
   "file_extension": ".py",
   "mimetype": "text/x-python",
   "name": "python",
   "nbconvert_exporter": "python",
   "pygments_lexer": "ipython3",
   "version": "3.6.13"
  }
 },
 "nbformat": 4,
 "nbformat_minor": 5
}
