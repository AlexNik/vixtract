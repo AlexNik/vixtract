{
 "cells": [
  {
   "cell_type": "code",
   "execution_count": null,
   "id": "colored-locking",
   "metadata": {},
   "outputs": [],
   "source": [
    "import petl as etl # для загрузки и обработки данных\n",
    "\n",
    "from app_store_scraper import AppStore # для выгрузки отзывов о приложении\n",
    "import pandas as pd # для удобной работы с датой и выгрузки таблицы в postgresql\n",
    "\n",
    "import sqlalchemy # для создания таблицы в базе данных"
   ]
  },
  {
   "cell_type": "code",
   "execution_count": null,
   "id": "utility-hungary",
   "metadata": {},
   "outputs": [],
   "source": [
    "last_reviews = AppStore(country=\"ru\", app_name=\"visiology mobile\")\n",
    "last_reviews.review(how_many=10)"
   ]
  },
  {
   "cell_type": "code",
   "execution_count": null,
   "id": "fewer-hostel",
   "metadata": {},
   "outputs": [],
   "source": [
    "tbl = etl.fromdicts(last_reviews.reviews) # создание таблицы petl"
   ]
  },
  {
   "cell_type": "code",
   "execution_count": null,
   "id": "scheduled-contract",
   "metadata": {},
   "outputs": [],
   "source": [
    "tbl = etl.cutout(tbl, 'isEdited', 'title') # удаление ненужных столбцов"
   ]
  },
  {
   "cell_type": "code",
   "execution_count": null,
   "id": "abandoned-angle",
   "metadata": {},
   "outputs": [],
   "source": [
    "tbl.toxlsx('visiology_mobile_reviews.xlsx', write_header=True, mode='replace') # экспорт в Excel"
   ]
  },
  {
   "cell_type": "code",
   "execution_count": null,
   "id": "corresponding-address",
   "metadata": {},
   "outputs": [],
   "source": [
    "engine = sqlalchemy.create_engine('postgresql://{user}:{user_password}@{url}:{port}/{database_name}') # подключение к базе данных"
   ]
  },
  {
   "cell_type": "code",
   "execution_count": null,
   "id": "packed-compound",
   "metadata": {},
   "outputs": [],
   "source": [
    "df = pd.DataFrame(columns=tbl[0], data=tbl[1:]) # создание DataFrame из petl-таблицы"
   ]
  },
  {
   "cell_type": "code",
   "execution_count": null,
   "id": "white-generation",
   "metadata": {},
   "outputs": [],
   "source": [
    "# экспорт в базу данных\n",
    "df.to_sql('visiology_mobile_reviews', engine, index=False, if_exists='replace',\n",
    "                    dtype={\n",
    "                        'userName': sqlalchemy.VARCHAR(30),\n",
    "                        'rating': sqlalchemy.Integer(),\n",
    "                        'review': sqlalchemy.Text(),\n",
    "                        'date' : sqlalchemy.DateTime(),\n",
    "                        'title': sqlalchemy.VARCHAR(50)\n",
    "                    })"
   ]
  },
  {
   "cell_type": "code",
   "execution_count": null,
   "id": "liable-deviation",
   "metadata": {},
   "outputs": [],
   "source": []
  }
 ],
 "metadata": {
  "kernelspec": {
   "display_name": "Python (Dev Env)",
   "language": "python",
   "name": "dev"
  },
  "language_info": {
   "codemirror_mode": {
    "name": "ipython",
    "version": 3
   },
   "file_extension": ".py",
   "mimetype": "text/x-python",
   "name": "python",
   "nbconvert_exporter": "python",
   "pygments_lexer": "ipython3",
   "version": "3.6.13"
  }
 },
 "nbformat": 4,
 "nbformat_minor": 5
}
