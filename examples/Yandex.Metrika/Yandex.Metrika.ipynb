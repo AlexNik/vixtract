{
 "cells": [
  {
   "cell_type": "code",
   "execution_count": 1,
   "metadata": {},
   "outputs": [],
   "source": [
    "from tapi_yandex_metrika import YandexMetrikaLogsapi\n",
    "from datetime import datetime\n",
    "import petl as etl"
   ]
  },
  {
   "cell_type": "markdown",
   "metadata": {},
   "source": [
    "#### Получаем вчерашнюю дату"
   ]
  },
  {
   "cell_type": "code",
   "execution_count": 2,
   "metadata": {},
   "outputs": [],
   "source": [
    "year = datetime.date(datetime.now()).strftime(\"%Y\")\n",
    "month = datetime.date(datetime.now()).strftime(\"%m\")\n",
    "day = str(int(datetime.date(datetime.now()).strftime(\"%d\"))-1)\n",
    "\n",
    "date = year + '-' + month + '-' + day"
   ]
  },
  {
   "cell_type": "markdown",
   "metadata": {},
   "source": [
    "#### Указываем Токен и ID счетчика с Я.Метрики"
   ]
  },
  {
   "cell_type": "code",
   "execution_count": 3,
   "metadata": {},
   "outputs": [],
   "source": [
    "ACCESS_TOKEN = \"balblablablablayakrevedko\"\n",
    "COUNTER_ID = \"563547\""
   ]
  },
  {
   "cell_type": "markdown",
   "metadata": {},
   "source": [
    "#### Обращаемся к API, используя токен и ID счетчика"
   ]
  },
  {
   "cell_type": "code",
   "execution_count": 4,
   "metadata": {},
   "outputs": [],
   "source": [
    "api = YandexMetrikaLogsapi(\n",
    "    access_token=ACCESS_TOKEN,\n",
    "    default_url_params={'counterId': COUNTER_ID},\n",
    "    wait_report=True    \n",
    ")"
   ]
  },
  {
   "cell_type": "markdown",
   "metadata": {},
   "source": [
    "#### Задаем параметры для получения двух отчетов: визиты и просмотры страниц"
   ]
  },
  {
   "cell_type": "code",
   "execution_count": 5,
   "metadata": {},
   "outputs": [],
   "source": [
    "paramsVisit={\n",
    "    \"fields\": \"ym:s:date,ym:s:clientID,ym:s:lastTrafficSource,ym:s:visitDuration,\" \\\n",
    "               \"ym:s:pageViews,ym:s:isNewUser,ym:s:visitID,ym:s:watchIDs,\" \\\n",
    "               \"ym:s:lastAdvEngine,ym:s:deviceCategory,ym:s:mobilePhone\",\n",
    "    \"source\": \"visits\",\n",
    "    \"date1\": \"2018-01-01\",\n",
    "    \"date2\": date\n",
    "}\n",
    "\n",
    "paramsWatch={\n",
    "    \"fields\": \"ym:pv:watchID,ym:pv:URL,ym:pv:isPageView,ym:pv:UTMCampaign\",\n",
    "    \"source\": \"hits\",\n",
    "    \"date1\": \"2018-01-01\",\n",
    "    \"date2\": date\n",
    "}"
   ]
  },
  {
   "cell_type": "markdown",
   "metadata": {},
   "source": [
    "#### Оценка возможности получить желаемые отчеты с Я.Метрики"
   ]
  },
  {
   "cell_type": "code",
   "execution_count": 6,
   "metadata": {},
   "outputs": [],
   "source": [
    "resultV = api.evaluate().get(params=paramsVisit)\n",
    "resultW = api.evaluate().get(params=paramsWatch)"
   ]
  },
  {
   "cell_type": "markdown",
   "metadata": {},
   "source": [
    "#### Создание двух отчетов"
   ]
  },
  {
   "cell_type": "code",
   "execution_count": 7,
   "metadata": {},
   "outputs": [],
   "source": [
    "resultV = api.create().post(params=paramsVisit)\n",
    "resultW = api.create().post(params=paramsWatch)"
   ]
  },
  {
   "cell_type": "markdown",
   "metadata": {},
   "source": [
    "#### Присваиваем двум переменным айдишники только что сгенерированных отчетов"
   ]
  },
  {
   "cell_type": "code",
   "execution_count": 8,
   "metadata": {},
   "outputs": [],
   "source": [
    "requestV_id = resultV().data[\"log_request\"][\"request_id\"]\n",
    "requestW_id = resultW().data[\"log_request\"][\"request_id\"]"
   ]
  },
  {
   "cell_type": "markdown",
   "metadata": {},
   "source": [
    "#### Скачиваем два сгенерированных ответа по их id "
   ]
  },
  {
   "cell_type": "code",
   "execution_count": 9,
   "metadata": {},
   "outputs": [
    {
     "name": "stderr",
     "output_type": "stream",
     "text": [
      "INFO:root:Включен режим ожидания готовности отчета. Проверка готовности отчета через 20 сек.\n",
      "INFO:root:Включен режим ожидания готовности отчета. Проверка готовности отчета через 40 сек.\n",
      "INFO:root:Включен режим ожидания готовности отчета. Проверка готовности отчета через 20 сек.\n",
      "INFO:root:Включен режим ожидания готовности отчета. Проверка готовности отчета через 40 сек.\n"
     ]
    }
   ],
   "source": [
    "resultV = api.download(requestId=requestV_id).get()\n",
    "resultW = api.download(requestId=requestW_id).get()"
   ]
  },
  {
   "cell_type": "markdown",
   "metadata": {},
   "source": [
    "#### Кладем данные по визитам и просмотрам в переменные"
   ]
  },
  {
   "cell_type": "code",
   "execution_count": 10,
   "metadata": {},
   "outputs": [],
   "source": [
    "dataV = resultV().data\n",
    "dataW = resultW().data"
   ]
  },
  {
   "cell_type": "markdown",
   "metadata": {},
   "source": [
    "#### Преобразуем данные в списки"
   ]
  },
  {
   "cell_type": "code",
   "execution_count": 11,
   "metadata": {},
   "outputs": [],
   "source": [
    "dataV = dataV.split('\\n')\n",
    "dataW = dataW.split('\\n')"
   ]
  },
  {
   "cell_type": "markdown",
   "metadata": {},
   "source": [
    "#### Создаем переменные, которые будут использоваться дальше в преобразовании данных"
   ]
  },
  {
   "cell_type": "code",
   "execution_count": 12,
   "metadata": {},
   "outputs": [],
   "source": [
    "wvTable = [[]]\n",
    "visitTable = [[]]\n",
    "watchTable = [[]]\n",
    "visitArray = []\n",
    "watchArray = []"
   ]
  },
  {
   "cell_type": "markdown",
   "metadata": {},
   "source": [
    "#### В переменных *Table для хранения таблиц задаем заголовки таблиц"
   ]
  },
  {
   "cell_type": "code",
   "execution_count": 13,
   "metadata": {},
   "outputs": [],
   "source": [
    "wvTable[0] = ['VisitID', 'WatchID']"
   ]
  },
  {
   "cell_type": "code",
   "execution_count": 14,
   "metadata": {},
   "outputs": [],
   "source": [
    "watchTable[0] = [\n",
    "    'WatchID', #0 <- 0\n",
    "    'URL', #1 <- 1\n",
    "    'isPageView', #2 <- 2 \n",
    "    'UTMCompain' #3 <- 3\n",
    "]  "
   ]
  },
  {
   "cell_type": "code",
   "execution_count": 15,
   "metadata": {},
   "outputs": [],
   "source": [
    "visitTable[0] = [\n",
    "    'Дата', #0 <- 0\n",
    "    'ClientID', #1 <- 1\n",
    "    'Источник', #2 <- 2\n",
    "    'Продолжительность визита', #3 <- 3\n",
    "    'Количество страниц', #4 <- 4\n",
    "    'Новый пользователь', #5 <- 5\n",
    "    'VisitID', #6 <- 6\n",
    "    'Рекламная система', #7 <- 8\n",
    "    'Тип устройства', #8 <- 9\n",
    "    'Тип мобильного устройства', #9 <- 10   \n",
    "]    "
   ]
  },
  {
   "cell_type": "markdown",
   "metadata": {},
   "source": [
    "#### Формируем три таблицы с данными"
   ]
  },
  {
   "cell_type": "code",
   "execution_count": 16,
   "metadata": {},
   "outputs": [],
   "source": [
    "for i in range(1, len(dataV)-1):\n",
    "    visitArray = dataV[i].split('\\t')\n",
    "    visitTable.append(visitArray[:7] + visitArray[8:])"
   ]
  },
  {
   "cell_type": "code",
   "execution_count": 17,
   "metadata": {},
   "outputs": [],
   "source": [
    "for i in range(1, len(dataV)-1):\n",
    "    visitArray = dataV[i].split('\\t')\n",
    "    watchArray = visitArray[7][1:len(visitArray[7])-1].split(',')   \n",
    "    for watch in watchArray:\n",
    "        wvTable.append([visitArray[6],watch])  "
   ]
  },
  {
   "cell_type": "code",
   "execution_count": 18,
   "metadata": {},
   "outputs": [],
   "source": [
    "for i in range(1, len(dataW)-1):\n",
    "    watchTable.append(dataW[i].split('\\t'))"
   ]
  },
  {
   "cell_type": "markdown",
   "metadata": {},
   "source": [
    "#### Чистим данные и формируем одну общую выходную таблицу"
   ]
  },
  {
   "cell_type": "code",
   "execution_count": 19,
   "metadata": {},
   "outputs": [],
   "source": [
    "watchTable = etl.leftjoin(watchTable, wvTable, key='WatchID')"
   ]
  },
  {
   "cell_type": "code",
   "execution_count": 20,
   "metadata": {},
   "outputs": [],
   "source": [
    "watchTable = etl.select(watchTable, lambda rec: rec.VisitID != None)\n",
    "watchTable = etl.select(watchTable, lambda rec: rec.isPageView != '0')"
   ]
  },
  {
   "cell_type": "code",
   "execution_count": 21,
   "metadata": {},
   "outputs": [],
   "source": [
    "watchTable = etl.leftjoin(watchTable, visitTable, key='VisitID')"
   ]
  },
  {
   "cell_type": "markdown",
   "metadata": {},
   "source": [
    "#### Преобразовываем данные в таблице"
   ]
  },
  {
   "cell_type": "code",
   "execution_count": 22,
   "metadata": {},
   "outputs": [],
   "source": [
    "watchTable = etl.convert(watchTable, 'Тип устройства', 'replace', '1', 'Десктоп')\n",
    "watchTable = etl.convert(watchTable, 'Тип устройства', 'replace', '2', 'Мобильные телефоны')\n",
    "watchTable = etl.convert(watchTable, 'Тип устройства', 'replace', '3', 'Планшеты')\n",
    "watchTable = etl.convert(watchTable, 'Тип устройства', 'replace', '4', 'TV')"
   ]
  },
  {
   "cell_type": "code",
   "execution_count": 23,
   "metadata": {},
   "outputs": [],
   "source": [
    "watchTable = etl.convert(watchTable, 'Рекламная система', lambda v: v.split('_')[0])"
   ]
  },
  {
   "cell_type": "code",
   "execution_count": 24,
   "metadata": {},
   "outputs": [],
   "source": [
    "watchTable = etl.convert(watchTable, 'Продолжительность визита', int)\n",
    "watchTable = etl.convert(watchTable, 'Количество страниц', int)"
   ]
  },
  {
   "cell_type": "markdown",
   "metadata": {},
   "source": [
    "#### Добавляем дополнительные колонки с данными для нашей конкретной бизнес-задачи"
   ]
  },
  {
   "cell_type": "code",
   "execution_count": 25,
   "metadata": {},
   "outputs": [],
   "source": [
    "watchTable = etl.addfield(watchTable, 'Длительность просмотра', lambda row: 'меньше 15 сек' \n",
    "                          if row['Продолжительность визита'] < 15 \n",
    "                          else ('от 15 до 30 сек' if row['Продолжительность визита'] >= 15 \n",
    "                              and row['Продолжительность визита'] < 30 \n",
    "                                  else ('от 30 до 60 сек' if row['Продолжительность визита'] >= 30 \n",
    "                                      and row['Продолжительность визита'] < 60 else 'более минуты')))\n",
    "\n"
   ]
  },
  {
   "cell_type": "code",
   "execution_count": 26,
   "metadata": {},
   "outputs": [],
   "source": [
    "watchTable = etl.addfield(watchTable, 'Глубина просмотра', lambda row: 'не более 1' \n",
    "                          if row['Количество страниц'] <= 1 \n",
    "                              else ('2-3' if row['Количество страниц'] >= 2 \n",
    "                                  and row['Количество страниц'] <= 3 \n",
    "                                      else 'больше 3'))"
   ]
  },
  {
   "cell_type": "code",
   "execution_count": 27,
   "metadata": {},
   "outputs": [],
   "source": [
    "watchTable = etl.addfield(watchTable, 'Качество трафика', lambda row: 'хорошее' \n",
    "                          if (row['Количество страниц'] > 1 \n",
    "                              and row['Продолжительность визита'] >= 15) \n",
    "                                  else ('плохое' if (row['Количество страниц'] <= 1 \n",
    "                                      and row['Продолжительность визита'] < 15) \n",
    "                                          else 'среднее'))"
   ]
  },
  {
   "cell_type": "markdown",
   "metadata": {},
   "source": [
    "#### Экспортируем в Excel"
   ]
  },
  {
   "cell_type": "code",
   "execution_count": 28,
   "metadata": {},
   "outputs": [],
   "source": [
    "etl.io.xlsx.toxlsx(watchTable, \"oneTable.xlsx\", sheet=None, write_header=True)"
   ]
  }
 ],
 "metadata": {
  "kernelspec": {
   "display_name": "Python (Prod Env)",
   "language": "python",
   "name": "prod"
  },
  "language_info": {
   "codemirror_mode": {
    "name": "ipython",
    "version": 3
   },
   "file_extension": ".py",
   "mimetype": "text/x-python",
   "name": "python",
   "nbconvert_exporter": "python",
   "pygments_lexer": "ipython3",
   "version": "3.6.10"
  }
 },
 "nbformat": 4,
 "nbformat_minor": 4
}
