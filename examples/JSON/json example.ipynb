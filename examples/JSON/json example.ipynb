{
 "cells": [
  {
   "cell_type": "code",
   "execution_count": null,
   "id": "strong-maria",
   "metadata": {},
   "outputs": [],
   "source": [
    "import petl as etl # для загрузки и обработки данных\n",
    "import json # для чтения файла json \n",
    "import pandas as pd # для выгрузки таблицы в postgresql\n",
    "import sqlalchemy # для создания подключения к базе данных"
   ]
  },
  {
   "cell_type": "code",
   "execution_count": null,
   "id": "subtle-jerusalem",
   "metadata": {},
   "outputs": [],
   "source": [
    "# выгружаем данные из json файла\n",
    "with open('example.json', 'r', encoding='utf-8') as f: \n",
    "    text = json.load(f)"
   ]
  },
  {
   "cell_type": "code",
   "execution_count": 90,
   "id": "changed-hello",
   "metadata": {},
   "outputs": [
    {
     "data": {
      "text/plain": [
       "dict"
      ]
     },
     "execution_count": 90,
     "metadata": {},
     "output_type": "execute_result"
    }
   ],
   "source": [
    "type(text[0])"
   ]
  },
  {
   "cell_type": "code",
   "execution_count": null,
   "id": "cognitive-french",
   "metadata": {},
   "outputs": [],
   "source": [
    "# функция для установки правильного формата дат\n",
    "def make_date(item):\n",
    "    day = item['bibliography']['publication']['day']\n",
    "    month = item['bibliography']['publication']['month']\n",
    "    year = item['bibliography']['publication']['year']\n",
    "    return f\"{year:04d}-{month:02d}-{day:02d}\""
   ]
  },
  {
   "cell_type": "code",
   "execution_count": 93,
   "id": "correct-capability",
   "metadata": {},
   "outputs": [],
   "source": [
    "# переструктурирование json файла в словарь python\n",
    "df_dict = [{\n",
    "    'name': item['bibliography']['author']['name'], \n",
    "    'title': item['bibliography']['title'], \n",
    "    'publication': make_date(item),\n",
    "    'downloads': item['metadata']['downloads'],\n",
    "    'words': item['metrics']['statistics']['words']}\n",
    "    for item in text]"
   ]
  },
  {
   "cell_type": "code",
   "execution_count": 96,
   "id": "advance-elephant",
   "metadata": {},
   "outputs": [],
   "source": [
    "table = etl.fromdicts(df_dict) # создание таблицы petl"
   ]
  },
  {
   "cell_type": "code",
   "execution_count": 98,
   "id": "fifty-bankruptcy",
   "metadata": {},
   "outputs": [],
   "source": [
    "table = etl.addfield(table, 'Last_name_letter', lambda x: x['name'][0]) # добавление столбца с первой буквой фамилии"
   ]
  },
  {
   "cell_type": "code",
   "execution_count": null,
   "id": "aware-infrastructure",
   "metadata": {},
   "outputs": [],
   "source": [
    "table.toxlsx('example.xlsx', mode='overwrite') # экспорт в Excel файл"
   ]
  },
  {
   "cell_type": "code",
   "execution_count": null,
   "id": "federal-photograph",
   "metadata": {},
   "outputs": [],
   "source": [
    "engine = sqlalchemy.create_engine('postgresql://{user}:{user_password}@{url}:{port}/{database_name}') # подключение к базе данных"
   ]
  },
  {
   "cell_type": "code",
   "execution_count": null,
   "id": "harmful-context",
   "metadata": {},
   "outputs": [],
   "source": [
    "df = pd.DataFrame(columns=table[0], data=table[1:]) # создание DataFrame из petl-таблицы"
   ]
  },
  {
   "cell_type": "code",
   "execution_count": 100,
   "id": "broadband-royal",
   "metadata": {},
   "outputs": [
    {
     "data": {
      "text/html": [
       "<div>\n",
       "<style scoped>\n",
       "    .dataframe tbody tr th:only-of-type {\n",
       "        vertical-align: middle;\n",
       "    }\n",
       "\n",
       "    .dataframe tbody tr th {\n",
       "        vertical-align: top;\n",
       "    }\n",
       "\n",
       "    .dataframe thead th {\n",
       "        text-align: right;\n",
       "    }\n",
       "</style>\n",
       "<table border=\"1\" class=\"dataframe\">\n",
       "  <thead>\n",
       "    <tr style=\"text-align: right;\">\n",
       "      <th></th>\n",
       "      <th>name</th>\n",
       "      <th>title</th>\n",
       "      <th>publication</th>\n",
       "      <th>downloads</th>\n",
       "      <th>words</th>\n",
       "      <th>Last_name_letter</th>\n",
       "    </tr>\n",
       "  </thead>\n",
       "  <tbody>\n",
       "    <tr>\n",
       "      <th>0</th>\n",
       "      <td>Austen, Jane</td>\n",
       "      <td>Pride and Prejudice</td>\n",
       "      <td>1998-06-01</td>\n",
       "      <td>36576</td>\n",
       "      <td>121533</td>\n",
       "      <td>A</td>\n",
       "    </tr>\n",
       "    <tr>\n",
       "      <th>1</th>\n",
       "      <td>Gilman, Charlotte Perkins</td>\n",
       "      <td>The Yellow Wallpaper</td>\n",
       "      <td>1999-11-01</td>\n",
       "      <td>26363</td>\n",
       "      <td>6067</td>\n",
       "      <td>G</td>\n",
       "    </tr>\n",
       "    <tr>\n",
       "      <th>2</th>\n",
       "      <td>Carroll, Lewis</td>\n",
       "      <td>Alice's Adventures in Wonderland</td>\n",
       "      <td>1994-03-01</td>\n",
       "      <td>18882</td>\n",
       "      <td>26389</td>\n",
       "      <td>C</td>\n",
       "    </tr>\n",
       "    <tr>\n",
       "      <th>3</th>\n",
       "      <td>Shelley, Mary Wollstonecraft</td>\n",
       "      <td>Frankenstein; Or, The Modern Prometheus</td>\n",
       "      <td>2008-06-17</td>\n",
       "      <td>17128</td>\n",
       "      <td>74959</td>\n",
       "      <td>S</td>\n",
       "    </tr>\n",
       "    <tr>\n",
       "      <th>4</th>\n",
       "      <td>Kafka, Franz</td>\n",
       "      <td>Metamorphosis</td>\n",
       "      <td>2005-08-16</td>\n",
       "      <td>15683</td>\n",
       "      <td>22022</td>\n",
       "      <td>K</td>\n",
       "    </tr>\n",
       "    <tr>\n",
       "      <th>...</th>\n",
       "      <td>...</td>\n",
       "      <td>...</td>\n",
       "      <td>...</td>\n",
       "      <td>...</td>\n",
       "      <td>...</td>\n",
       "      <td>...</td>\n",
       "    </tr>\n",
       "    <tr>\n",
       "      <th>76</th>\n",
       "      <td>Maupassant, Guy de</td>\n",
       "      <td>Complete Original Short Stories of Guy De Maup...</td>\n",
       "      <td>2004-10-02</td>\n",
       "      <td>3437</td>\n",
       "      <td>490717</td>\n",
       "      <td>M</td>\n",
       "    </tr>\n",
       "    <tr>\n",
       "      <th>77</th>\n",
       "      <td>Wood, Thomas</td>\n",
       "      <td>Practical Grammar and Composition</td>\n",
       "      <td>2007-09-11</td>\n",
       "      <td>3434</td>\n",
       "      <td>63677</td>\n",
       "      <td>W</td>\n",
       "    </tr>\n",
       "    <tr>\n",
       "      <th>78</th>\n",
       "      <td>Dickens, Charles</td>\n",
       "      <td>David Copperfield</td>\n",
       "      <td>1996-12-01</td>\n",
       "      <td>3427</td>\n",
       "      <td>354823</td>\n",
       "      <td>D</td>\n",
       "    </tr>\n",
       "    <tr>\n",
       "      <th>79</th>\n",
       "      <td>Rowlandson, Mary White</td>\n",
       "      <td>Narrative of the Captivity and Restoration of ...</td>\n",
       "      <td>1997-03-01</td>\n",
       "      <td>3389</td>\n",
       "      <td>20204</td>\n",
       "      <td>R</td>\n",
       "    </tr>\n",
       "    <tr>\n",
       "      <th>80</th>\n",
       "      <td>Stowe, Harriet Beecher</td>\n",
       "      <td>Uncle Tom's Cabin</td>\n",
       "      <td>1995-01-01</td>\n",
       "      <td>3336</td>\n",
       "      <td>180551</td>\n",
       "      <td>S</td>\n",
       "    </tr>\n",
       "  </tbody>\n",
       "</table>\n",
       "<p>81 rows × 6 columns</p>\n",
       "</div>"
      ],
      "text/plain": [
       "                            name  \\\n",
       "0                   Austen, Jane   \n",
       "1      Gilman, Charlotte Perkins   \n",
       "2                 Carroll, Lewis   \n",
       "3   Shelley, Mary Wollstonecraft   \n",
       "4                   Kafka, Franz   \n",
       "..                           ...   \n",
       "76            Maupassant, Guy de   \n",
       "77                  Wood, Thomas   \n",
       "78              Dickens, Charles   \n",
       "79        Rowlandson, Mary White   \n",
       "80        Stowe, Harriet Beecher   \n",
       "\n",
       "                                                title publication  downloads  \\\n",
       "0                                 Pride and Prejudice  1998-06-01      36576   \n",
       "1                                The Yellow Wallpaper  1999-11-01      26363   \n",
       "2                    Alice's Adventures in Wonderland  1994-03-01      18882   \n",
       "3             Frankenstein; Or, The Modern Prometheus  2008-06-17      17128   \n",
       "4                                       Metamorphosis  2005-08-16      15683   \n",
       "..                                                ...         ...        ...   \n",
       "76  Complete Original Short Stories of Guy De Maup...  2004-10-02       3437   \n",
       "77                  Practical Grammar and Composition  2007-09-11       3434   \n",
       "78                                  David Copperfield  1996-12-01       3427   \n",
       "79  Narrative of the Captivity and Restoration of ...  1997-03-01       3389   \n",
       "80                                  Uncle Tom's Cabin  1995-01-01       3336   \n",
       "\n",
       "     words Last_name_letter  \n",
       "0   121533                A  \n",
       "1     6067                G  \n",
       "2    26389                C  \n",
       "3    74959                S  \n",
       "4    22022                K  \n",
       "..     ...              ...  \n",
       "76  490717                M  \n",
       "77   63677                W  \n",
       "78  354823                D  \n",
       "79   20204                R  \n",
       "80  180551                S  \n",
       "\n",
       "[81 rows x 6 columns]"
      ]
     },
     "execution_count": 100,
     "metadata": {},
     "output_type": "execute_result"
    }
   ],
   "source": [
    "df"
   ]
  },
  {
   "cell_type": "code",
   "execution_count": null,
   "id": "sexual-external",
   "metadata": {},
   "outputs": [],
   "source": [
    "# экспорт в базу данных\n",
    "df.to_sql('books_json', engine, index=False, if_exists='replace', dtype={\n",
    "    'name': sqlalchemy.VARCHAR(50),\n",
    "    'title': sqlalchemy.VARCHAR(255),\n",
    "    'downloads': sqlalchemy.Integer(),\n",
    "    'words': sqlalchemy.Integer(),\n",
    "    'publication': sqlalchemy.Date(),\n",
    "    'Last_name_letter': sqlalchemy.CHAR()\n",
    "})"
   ]
  },
  {
   "cell_type": "code",
   "execution_count": null,
   "id": "shared-acquisition",
   "metadata": {},
   "outputs": [],
   "source": []
  }
 ],
 "metadata": {
  "kernelspec": {
   "display_name": "Python (Dev Env)",
   "language": "python",
   "name": "dev"
  },
  "language_info": {
   "codemirror_mode": {
    "name": "ipython",
    "version": 3
   },
   "file_extension": ".py",
   "mimetype": "text/x-python",
   "name": "python",
   "nbconvert_exporter": "python",
   "pygments_lexer": "ipython3",
   "version": "3.6.13"
  }
 },
 "nbformat": 4,
 "nbformat_minor": 5
}
