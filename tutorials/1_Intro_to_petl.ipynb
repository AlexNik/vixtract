{
 "cells": [
  {
   "cell_type": "markdown",
   "metadata": {},
   "source": [
    "Начнем с подключения неободимых библиотек, применение каждой из них будет рассмотрено отдельно позднее."
   ]
  },
  {
   "cell_type": "code",
   "execution_count": null,
   "metadata": {},
   "outputs": [],
   "source": [
    "import requests\n",
    "import psycopg2\n",
    "import petl as etl\n",
    "import numpy as np\n",
    "\n",
    "from datetime import datetime as dt"
   ]
  },
  {
   "cell_type": "markdown",
   "metadata": {},
   "source": [
    "# Библиотека PETL"
   ]
  },
  {
   "cell_type": "markdown",
   "metadata": {},
   "source": [
    "### Загрузка данных\n",
    "`petl` поддерживает различные источники данных, мы рассмотрим следующие:\n",
    "- Загрузка из xlsx-файла  \n",
    "- Использование открытых источников через API\n",
    "- Работа с базой данных"
   ]
  },
  {
   "cell_type": "markdown",
   "metadata": {},
   "source": [
    "### Данные из xlsx-файла"
   ]
  },
  {
   "cell_type": "markdown",
   "metadata": {},
   "source": [
    "Рассмотрим работу с `petl` на наборе результатов летних олимпиад по странам. Нам понадобится файл `datasets/summer_olympics.xlsx`, посмотрим на первые строки, пока не сохраняя таблицу в переменную."
   ]
  },
  {
   "cell_type": "code",
   "execution_count": null,
   "metadata": {},
   "outputs": [],
   "source": [
    "etl.fromxlsx('datasets/summer_olympics.xlsx')"
   ]
  },
  {
   "cell_type": "markdown",
   "metadata": {},
   "source": [
    "Видим, что данные загрузились без ошибок, однако заголовки столбцов не определились, потому что в начале файла есть лишняя пустая строка. Исправим это, используя функцию `skip` и поместим результат в переменную `olympics`"
   ]
  },
  {
   "cell_type": "code",
   "execution_count": null,
   "metadata": {},
   "outputs": [],
   "source": [
    "olympics = etl.fromxlsx('datasets/summer_olympics.xlsx').skip(1)"
   ]
  },
  {
   "cell_type": "code",
   "execution_count": null,
   "metadata": {},
   "outputs": [],
   "source": [
    "olympics"
   ]
  },
  {
   "cell_type": "markdown",
   "metadata": {},
   "source": [
    "Теперь заголовки у столбцов корректные, однако не достаточно информативны, исправим это, задав заголовки в ручную."
   ]
  },
  {
   "cell_type": "code",
   "execution_count": null,
   "metadata": {},
   "outputs": [],
   "source": [
    "olympics2 = olympics.setheader(['country','games','gold','silver','bronze'])"
   ]
  },
  {
   "cell_type": "code",
   "execution_count": null,
   "metadata": {},
   "outputs": [],
   "source": [
    "olympics2"
   ]
  },
  {
   "cell_type": "markdown",
   "metadata": {},
   "source": [
    "Мы начали выстраивать цепочку преобразования таблицы, это удобно, так как можно просмотреть результат работы на каждом этапе. Иногда, наоборот, удобнее объединить цепочку сразу в одной команде. Например, совместим изменение заголовка с сортировкой по количеству золотых медалей."
   ]
  },
  {
   "cell_type": "code",
   "execution_count": null,
   "metadata": {},
   "outputs": [],
   "source": [
    "olympics2 = olympics.setheader(['country','games','gold','silver','bronze']).sort('gold', reverse=True)"
   ]
  },
  {
   "cell_type": "code",
   "execution_count": null,
   "metadata": {},
   "outputs": [],
   "source": [
    "olympics2"
   ]
  },
  {
   "cell_type": "markdown",
   "metadata": {},
   "source": [
    "Теперь мы можем посчитать общее количество медалей и сохранить его в новом столбце, используя функцию `addfield`.\n",
    "\n",
    "Мы также применим мощный инструмент Python - **Анонимные функции**. **Анонимная функция** (функция без имени) - это запись вида `lambda x: <функция от x>`. Читается как: \"То, что было подано на вход этого выражения, будет положено в `x`, а результатом исполнения будет `<функция от x>`. В PETL это часто применяется, чтобы выполнить быстрое преобразования значения какого-либо из полей. Например, если нужно все значения таблицы `table` в поле `field` умножить на два, это можно написать как `table.convert('field', lambda x : x * 2)`. В примере ниже функция применяется не к отдельным значениям, а к строке целиком."
   ]
  },
  {
   "cell_type": "code",
   "execution_count": null,
   "metadata": {},
   "outputs": [],
   "source": [
    "olympics2.addfield('total', lambda row : row['gold'] + row['silver'] + row['bronze'])"
   ]
  },
  {
   "cell_type": "markdown",
   "metadata": {},
   "source": [
    "Вместо того, чтобы получить суммы, мы просто склеили значения. Чтобы такого не происходило, будем преобразовывать формат данных в целочисленные. Выясним, какая страна смогла набрать наибольшее число медалей, отсортировав сразу таблицу по новому столбцу по убыванию, с помощью функции `sort`. Также используем символ `\\`, чтобы разбить команду на несколько строк для улучшения читаемости."
   ]
  },
  {
   "cell_type": "code",
   "execution_count": null,
   "metadata": {},
   "outputs": [],
   "source": [
    "olympics3 = olympics2\\\n",
    "    .addfield('total', lambda x: int(x['gold']) + int(x['silver']) + int(x['bronze']))\\\n",
    "    .sort('total', reverse=True)"
   ]
  },
  {
   "cell_type": "code",
   "execution_count": null,
   "metadata": {},
   "outputs": [],
   "source": [
    "olympics3"
   ]
  },
  {
   "cell_type": "markdown",
   "metadata": {},
   "source": [
    "Видим, что в таблице есть сумма по всем странам, что нас не интересует в данной задаче. Можем выбрать из таблицы все строки, кроме строки со значением `country == Totals`. Воспользуемся функцией `select`.  \n",
    "\n",
    "Кроме того, дополнительно рассчитаем новый показатель - результативность страны, определив её как среднее число медалей за игру."
   ]
  },
  {
   "cell_type": "code",
   "execution_count": null,
   "metadata": {},
   "outputs": [],
   "source": [
    "olympics4 = olympics3\\\n",
    "    .select(lambda x: x.country != 'Totals')\\\n",
    "    .addfield('effectiveness', lambda x: round(x['total'] / float(x['games']), 2))"
   ]
  },
  {
   "cell_type": "code",
   "execution_count": null,
   "metadata": {},
   "outputs": [],
   "source": [
    "olympics4"
   ]
  },
  {
   "cell_type": "markdown",
   "metadata": {},
   "source": [
    "Сохраним полученные результаты в новый xlsx-файл."
   ]
  },
  {
   "cell_type": "code",
   "execution_count": null,
   "metadata": {},
   "outputs": [],
   "source": [
    "olympics4.toxlsx('olympics.xlsx')"
   ]
  },
  {
   "cell_type": "markdown",
   "metadata": {},
   "source": [
    "Готово! Теперь обработанный файл можно скачать или загрузить в BI-систему"
   ]
  },
  {
   "cell_type": "markdown",
   "metadata": {},
   "source": [
    "### Данные из открытого источника рынка акций"
   ]
  },
  {
   "cell_type": "markdown",
   "metadata": {},
   "source": [
    "Рассмотрим немного более продвинутый пример - получение данных из веб-сервиса по API. Это также делается очень просто с использованием библиотеки `requests`"
   ]
  },
  {
   "cell_type": "code",
   "execution_count": null,
   "metadata": {},
   "outputs": [],
   "source": [
    "response = requests.get('https://www.quandl.com/api/v3/datasets/WIKI/AAPL.json?start_date=2017-05-01&end_date=2017-07-01')"
   ]
  },
  {
   "cell_type": "markdown",
   "metadata": {},
   "source": [
    "Посмотрим, что мы получили в ответ. Мы увидим данные в формате JSON, которые нужно будет промотать до конца"
   ]
  },
  {
   "cell_type": "code",
   "execution_count": null,
   "metadata": {},
   "outputs": [],
   "source": [
    "stock_prices_json = response.json()\n",
    "stock_prices_json"
   ]
  },
  {
   "cell_type": "markdown",
   "metadata": {},
   "source": [
    "Видим, что в полученном JSON сама таблица с данными лежит в разделе `dataset`. Посмотрим, какие в ней есть поля."
   ]
  },
  {
   "cell_type": "code",
   "execution_count": null,
   "metadata": {},
   "outputs": [],
   "source": [
    "stock_prices_json['dataset'].keys()"
   ]
  },
  {
   "cell_type": "markdown",
   "metadata": {},
   "source": [
    "Нас интересуют два поля ответа: `column_names`, который мы будем использовать в качестве заголовков таблицы, и `data`, содержащий все необходимые данные построчно. Для преобразования данных из объекта `dict` в таблицу `petl` сделаем следующее:  \n",
    "- Транспонируем содержимое `data`, чтобы превратить строки в столбцы  \n",
    "- Используем `column_names` в качестве значения параметра `header` функции `fromcolumns`"
   ]
  },
  {
   "cell_type": "code",
   "execution_count": null,
   "metadata": {},
   "outputs": [],
   "source": [
    "stock_prices = etl.fromcolumns(stock_prices_json['dataset']['data']).skip(1)\\\n",
    "    .transpose()\\\n",
    "    .setheader(stock_prices_json['dataset']['column_names'])"
   ]
  },
  {
   "cell_type": "code",
   "execution_count": null,
   "metadata": {},
   "outputs": [],
   "source": [
    "stock_prices"
   ]
  },
  {
   "cell_type": "markdown",
   "metadata": {},
   "source": [
    "Уберём часть столбцов, все, содержащие `'Adj'`, переведём все значения в числа (где это возможно), вычислим разницу курса на определённую дату. \n",
    "\n",
    "В этом примере мы используем **List comprehension**, инструмент Python, который позволяет делать довольно сложные преобразования в наглядном функциональном стиле и без циклов.\n",
    "\n",
    "**List comprehension** - это запись вида `(<функция от x> for x in <список> if <условие от x)`, которая читается как: \"Возьми все элементы из `<список>`, отбери те их них, для которых истинно `<условие от x>`, выполни над каждым `<функция от x>` и верни результаты в виде списка.\n",
    "Например, есть массив чисел `arr` и нужно отобрать из него четные числа и разделить их на 4. Это можно записать как `(x/4 for x in arr if x % 2 == 0)`"
   ]
  },
  {
   "cell_type": "code",
   "execution_count": null,
   "metadata": {},
   "outputs": [],
   "source": [
    "stock_prices2 = stock_prices\\\n",
    "    .cutout(*(x for x in stock_prices.fieldnames() if 'Adj' in x))\\\n",
    "    .convertnumbers()\\\n",
    "    .addfield('Difference', lambda row: round(row.Close - row.Open, 2))\n",
    "\n",
    "stock_prices2"
   ]
  },
  {
   "cell_type": "markdown",
   "metadata": {},
   "source": [
    "Сохраним полученную табличку в csv-файл."
   ]
  },
  {
   "cell_type": "code",
   "execution_count": null,
   "metadata": {},
   "outputs": [],
   "source": [
    "stock_prices2.tocsv('stock.csv')"
   ]
  },
  {
   "cell_type": "markdown",
   "metadata": {},
   "source": [
    "Через несколько секунд созданный файл появится в панели файлов слева, и вы сможете просмотреть или скачать его."
   ]
  },
  {
   "cell_type": "markdown",
   "metadata": {},
   "source": [
    "### Данные из БД (PostgreSQL)"
   ]
  },
  {
   "cell_type": "markdown",
   "metadata": {},
   "source": [
    "В состав ViXtract входит предустановленная СУБД PostgreSQL, её удобно использовать как промежуточное хранилище данных, из которого их уже забирает BI-система. Похожие подходы могут быть использованы и с любой другой СУБД.\n",
    "\n",
    "Рассмотрим следующий пример.  \n",
    "Доступны данные о состояниях различных типов транспортных средств. В базе есть 2 таблицы:\n",
    "- `status_ts` содержит информацию о состояниях различных ТС  \n",
    "- `ts_types` содержит наименования типов ТС  \n",
    "\n",
    "Необходимо подготовить таблицу, содержащую валидные данные по бульдозерам:\n",
    "- В данных не должно быть пропусков  \n",
    "- Время указано в формате datetime  \n",
    "- Кроме данных по бульдозерам других нет  \n",
    "- Все состояния, кроме отсутствия данных  \n",
    "- Для каждого состояния рассчитана продолжительность"
   ]
  },
  {
   "cell_type": "code",
   "execution_count": null,
   "metadata": {},
   "outputs": [],
   "source": [
    "connection = psycopg2.connect(\"dbname=demo user=demo password=demo\", host='localhost')\n",
    "\n",
    "statuses = etl.fromdb(connection, 'SELECT * FROM status_ts')\n",
    "ts_types = etl.fromdb(connection, 'SELECT * FROM ts_types')\n",
    "\n",
    "# Вспомогательные функции\n",
    "# Определяем фильтр для исключения строк с пустыми значениями\n",
    "row_without_nones = lambda x: all(x[field] != '' for field in statuses.fieldnames())\n",
    "# Перевод отметки времени в формат datetime\n",
    "to_datetime = lambda x: dt.fromtimestamp(int(x))"
   ]
  },
  {
   "cell_type": "markdown",
   "metadata": {},
   "source": [
    "Чтобы исключить строки с пропусками, используем функцию `select` и определенный выше фильтр `row_without_nones`"
   ]
  },
  {
   "cell_type": "code",
   "execution_count": null,
   "metadata": {},
   "outputs": [],
   "source": [
    "statuses.select(row_without_nones)"
   ]
  },
  {
   "cell_type": "markdown",
   "metadata": {},
   "source": [
    "Переведём столбцы со временем в требуемый формат. Для этого необходимо воспользоваться функцией `convert`.\n",
    "\n",
    "Сразу можем добавить расчёт продолжительности функцией `addfield`.  "
   ]
  },
  {
   "cell_type": "code",
   "execution_count": null,
   "metadata": {},
   "outputs": [],
   "source": [
    "statuses.\\\n",
    "    convert('Начало', to_datetime).\\\n",
    "    convert('Окончание', to_datetime).\\\n",
    "    addfield('Продолжительность', lambda x: x['Окончание'] - x['Начало'])"
   ]
  },
  {
   "cell_type": "markdown",
   "metadata": {},
   "source": [
    "Объединим обе таблицы и выберем данные только по бульдозерам, сразу уберём строки с состоянием \"Отсутствие данных\"."
   ]
  },
  {
   "cell_type": "code",
   "execution_count": null,
   "metadata": {},
   "outputs": [],
   "source": [
    "statuses.\\\n",
    "    join(ts_types, lkey='id ТС', rkey='id').\\\n",
    "    select(lambda x: 'Бульдозер' in x['Тип ТС'] and x['Состояние'] != 'Отсутствие данных')"
   ]
  },
  {
   "cell_type": "markdown",
   "metadata": {},
   "source": [
    "Все перечисленные операции можно произвести за раз, сформируем цепочку функций. \n",
    "\n",
    "Заметим, что столбец `id ТС` уже не требуется, его можно убрать функцией `cutout`.\n",
    "\n",
    "В дополнение ко всему отсортируем таблицу по времени начала состояний, применив `sort`."
   ]
  },
  {
   "cell_type": "code",
   "execution_count": null,
   "metadata": {},
   "outputs": [],
   "source": [
    "result = statuses.\\\n",
    "    join(ts_types, lkey='id ТС', rkey='id').\\\n",
    "    select(lambda x: 'Бульдозер' in x['Тип ТС'] and x['Состояние'] != 'Отсутствие данных').\\\n",
    "    select(row_without_nones).\\\n",
    "    convert('Начало', to_datetime).\\\n",
    "    convert('Окончание', to_datetime).\\\n",
    "    addfield('Продолжительность', lambda x: x['Окончание'] - x['Начало']).\\\n",
    "    convert('Начало', str).convert('Окончание', str).convert('Продолжительность', str).\\\n",
    "    cutout('id ТС').\\\n",
    "    sort('Начало')"
   ]
  },
  {
   "cell_type": "code",
   "execution_count": null,
   "metadata": {},
   "outputs": [],
   "source": [
    "result"
   ]
  },
  {
   "cell_type": "code",
   "execution_count": null,
   "metadata": {},
   "outputs": [],
   "source": [
    "# Импортируем библиотеку, позволяющую создавать таблицы в БД\n",
    "import sqlalchemy as db\n",
    "\n",
    "# Подготовим подключение\n",
    "_user = 'demo'\n",
    "_pass = 'demo'\n",
    "_host = 'localhost'\n",
    "_port = 5432\n",
    "target_db = db.create_engine(f\"postgres://{_user}:{_pass}@{_host}:{_port}/etl\")\n",
    "\n",
    "# Пробуем пересоздать таблицу (удалить и создать заново). Если таблицы нет - просто создаем новую.\n",
    "try:\n",
    "    result.todb(target_db, 'status_cleaned', create=True, drop=True, sample=0)\n",
    "except:\n",
    "    result.todb(target_db, 'status_cleaned', create=True, sample=0)"
   ]
  },
  {
   "cell_type": "markdown",
   "metadata": {},
   "source": [
    "Проверим, что таблица создалась. Обратите внимание, что схема таблицы (типы полей, их названия и так далее) была создана полностью автоматически."
   ]
  },
  {
   "cell_type": "code",
   "execution_count": null,
   "metadata": {},
   "outputs": [],
   "source": [
    "etl.fromdb(connection, 'SELECT * FROM status_cleaned')"
   ]
  },
  {
   "cell_type": "markdown",
   "metadata": {},
   "source": [
    "Поздравляем, вы завершили вводную часть по PETL и готовы решать свои задачи!\n",
    "\n",
    "Теперь вы можете перейти к рассмотрению примеров, более детальному изучению функций Python или настройке планировщика. \n",
    "\n",
    "Подробнее на www.vixtract.ru"
   ]
  }
 ],
 "metadata": {
  "kernelspec": {
   "display_name": "Python (Prod Env)",
   "language": "python",
   "name": "prod"
  },
  "language_info": {
   "codemirror_mode": {
    "name": "ipython",
    "version": 3
   },
   "file_extension": ".py",
   "mimetype": "text/x-python",
   "name": "python",
   "nbconvert_exporter": "python",
   "pygments_lexer": "ipython3",
   "version": "3.6.10"
  }
 },
 "nbformat": 4,
 "nbformat_minor": 4
}
