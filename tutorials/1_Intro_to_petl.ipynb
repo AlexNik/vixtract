{
 "cells": [
  {
   "cell_type": "code",
   "execution_count": 1,
   "metadata": {},
   "outputs": [],
   "source": [
    "import requests\n",
    "import psycopg2\n",
    "import petl as etl\n",
    "import numpy as np\n",
    "\n",
    "from datetime import datetime as dt"
   ]
  },
  {
   "cell_type": "markdown",
   "metadata": {},
   "source": [
    "# Библиотека PETL"
   ]
  },
  {
   "cell_type": "markdown",
   "metadata": {},
   "source": [
    "### Загрузка данных\n",
    "`petl` поддерживает различные источники данных, мы рассмотрим следующие:\n",
    "- Загрузка из xlsx-файла  \n",
    "- Использование открытых источников через API\n",
    "- Работа с базой данных"
   ]
  },
  {
   "cell_type": "markdown",
   "metadata": {},
   "source": [
    "### Данные из xlsx-файла"
   ]
  },
  {
   "cell_type": "markdown",
   "metadata": {},
   "source": [
    "Рассмотрим работу с `petl` на наборе результатов летних олимпиад по странам. Нам понадобится файл `datasets/summer_olympics.xlsx`, посмотрим на первые строки, пока не сохраняя таблицу в переменную."
   ]
  },
  {
   "cell_type": "code",
   "execution_count": 2,
   "metadata": {},
   "outputs": [
    {
     "data": {
      "text/html": [
       "<table class='petl'>\n",
       "<thead>\n",
       "<tr>\n",
       "<th>0</th>\n",
       "<th>1</th>\n",
       "<th>2</th>\n",
       "<th>3</th>\n",
       "<th>4</th>\n",
       "</tr>\n",
       "</thead>\n",
       "<tbody>\n",
       "<tr>\n",
       "<td></td>\n",
       "<td>? Summer</td>\n",
       "<td>01 !</td>\n",
       "<td>02 !</td>\n",
       "<td>03 !</td>\n",
       "</tr>\n",
       "<tr>\n",
       "<td>Afghanistan (AFG)</td>\n",
       "<td>13</td>\n",
       "<td>0</td>\n",
       "<td>0</td>\n",
       "<td>2</td>\n",
       "</tr>\n",
       "<tr>\n",
       "<td>Algeria (ALG)</td>\n",
       "<td>12</td>\n",
       "<td>5</td>\n",
       "<td>2</td>\n",
       "<td>8</td>\n",
       "</tr>\n",
       "</tbody>\n",
       "</table>\n"
      ],
      "text/plain": [
       "+---------------------+------------+--------+--------+--------+\n",
       "| 0                   | 1          | 2      | 3      | 4      |\n",
       "+=====================+============+========+========+========+\n",
       "| ''                  | '? Summer' | '01 !' | '02 !' | '03 !' |\n",
       "+---------------------+------------+--------+--------+--------+\n",
       "| 'Afghanistan (AFG)' | '13'       | '0'    | '0'    | '2'    |\n",
       "+---------------------+------------+--------+--------+--------+\n",
       "| 'Algeria (ALG)'     | '12'       | '5'    | '2'    | '8'    |\n",
       "+---------------------+------------+--------+--------+--------+"
      ]
     },
     "execution_count": 2,
     "metadata": {},
     "output_type": "execute_result"
    }
   ],
   "source": [
    "etl.fromxlsx('datasets/summer_olympics.xlsx').head(3)"
   ]
  },
  {
   "cell_type": "markdown",
   "metadata": {},
   "source": [
    "Видим, что данные загрузились без ошибок, однако в качестве заголовков должна использоваться первая строка данных. Исправим это, используя функцию `skip`"
   ]
  },
  {
   "cell_type": "code",
   "execution_count": 3,
   "metadata": {},
   "outputs": [],
   "source": [
    "xlsx_df = etl.fromxlsx('datasets/summer_olympics.xlsx').skip(1)"
   ]
  },
  {
   "cell_type": "code",
   "execution_count": 4,
   "metadata": {},
   "outputs": [
    {
     "data": {
      "text/html": [
       "<table class='petl'>\n",
       "<thead>\n",
       "<tr>\n",
       "<th></th>\n",
       "<th>? Summer</th>\n",
       "<th>01 !</th>\n",
       "<th>02 !</th>\n",
       "<th>03 !</th>\n",
       "</tr>\n",
       "</thead>\n",
       "<tbody>\n",
       "<tr>\n",
       "<td>Afghanistan (AFG)</td>\n",
       "<td>13</td>\n",
       "<td>0</td>\n",
       "<td>0</td>\n",
       "<td>2</td>\n",
       "</tr>\n",
       "<tr>\n",
       "<td>Algeria (ALG)</td>\n",
       "<td>12</td>\n",
       "<td>5</td>\n",
       "<td>2</td>\n",
       "<td>8</td>\n",
       "</tr>\n",
       "<tr>\n",
       "<td>Argentina (ARG)</td>\n",
       "<td>23</td>\n",
       "<td>18</td>\n",
       "<td>24</td>\n",
       "<td>28</td>\n",
       "</tr>\n",
       "</tbody>\n",
       "</table>\n"
      ],
      "text/plain": [
       "+---------------------+----------+------+------+------+\n",
       "|                     | ? Summer | 01 ! | 02 ! | 03 ! |\n",
       "+=====================+==========+======+======+======+\n",
       "| 'Afghanistan (AFG)' | '13'     | '0'  | '0'  | '2'  |\n",
       "+---------------------+----------+------+------+------+\n",
       "| 'Algeria (ALG)'     | '12'     | '5'  | '2'  | '8'  |\n",
       "+---------------------+----------+------+------+------+\n",
       "| 'Argentina (ARG)'   | '23'     | '18' | '24' | '28' |\n",
       "+---------------------+----------+------+------+------+"
      ]
     },
     "execution_count": 4,
     "metadata": {},
     "output_type": "execute_result"
    }
   ],
   "source": [
    "xlsx_df.head(3)"
   ]
  },
  {
   "cell_type": "markdown",
   "metadata": {},
   "source": [
    "Теперь заголовки у столбцов корректные, однако не достаточно информативны, исправим это, задав заголовки в ручную."
   ]
  },
  {
   "cell_type": "code",
   "execution_count": 5,
   "metadata": {},
   "outputs": [
    {
     "data": {
      "text/html": [
       "<table class='petl'>\n",
       "<thead>\n",
       "<tr>\n",
       "<th>country</th>\n",
       "<th>games</th>\n",
       "<th>gold</th>\n",
       "<th>silver</th>\n",
       "<th>bronze</th>\n",
       "</tr>\n",
       "</thead>\n",
       "<tbody>\n",
       "<tr>\n",
       "<td>Afghanistan (AFG)</td>\n",
       "<td>13</td>\n",
       "<td>0</td>\n",
       "<td>0</td>\n",
       "<td>2</td>\n",
       "</tr>\n",
       "<tr>\n",
       "<td>Algeria (ALG)</td>\n",
       "<td>12</td>\n",
       "<td>5</td>\n",
       "<td>2</td>\n",
       "<td>8</td>\n",
       "</tr>\n",
       "<tr>\n",
       "<td>Argentina (ARG)</td>\n",
       "<td>23</td>\n",
       "<td>18</td>\n",
       "<td>24</td>\n",
       "<td>28</td>\n",
       "</tr>\n",
       "<tr>\n",
       "<td>Armenia (ARM)</td>\n",
       "<td>5</td>\n",
       "<td>1</td>\n",
       "<td>2</td>\n",
       "<td>9</td>\n",
       "</tr>\n",
       "<tr>\n",
       "<td>Australasia (ANZ) [ANZ]</td>\n",
       "<td>2</td>\n",
       "<td>3</td>\n",
       "<td>4</td>\n",
       "<td>5</td>\n",
       "</tr>\n",
       "</tbody>\n",
       "</table>\n"
      ],
      "text/plain": [
       "+---------------------------+-------+------+--------+--------+\n",
       "| country                   | games | gold | silver | bronze |\n",
       "+===========================+=======+======+========+========+\n",
       "| 'Afghanistan (AFG)'       | '13'  | '0'  | '0'    | '2'    |\n",
       "+---------------------------+-------+------+--------+--------+\n",
       "| 'Algeria (ALG)'           | '12'  | '5'  | '2'    | '8'    |\n",
       "+---------------------------+-------+------+--------+--------+\n",
       "| 'Argentina (ARG)'         | '23'  | '18' | '24'   | '28'   |\n",
       "+---------------------------+-------+------+--------+--------+\n",
       "| 'Armenia (ARM)'           | '5'   | '1'  | '2'    | '9'    |\n",
       "+---------------------------+-------+------+--------+--------+\n",
       "| 'Australasia (ANZ) [ANZ]' | '2'   | '3'  | '4'    | '5'    |\n",
       "+---------------------------+-------+------+--------+--------+"
      ]
     },
     "execution_count": 5,
     "metadata": {},
     "output_type": "execute_result"
    }
   ],
   "source": [
    "new_header = [\n",
    "    'country',\n",
    "    'games',\n",
    "    'gold',\n",
    "    'silver',\n",
    "    'bronze',\n",
    "]\n",
    "xlsx_df = xlsx_df.setheader(new_header)\n",
    "xlsx_df.head()"
   ]
  },
  {
   "cell_type": "code",
   "execution_count": 6,
   "metadata": {},
   "outputs": [
    {
     "data": {
      "text/html": [
       "<table class='petl'>\n",
       "<thead>\n",
       "<tr>\n",
       "<th>country</th>\n",
       "<th>games</th>\n",
       "<th>gold</th>\n",
       "<th>silver</th>\n",
       "<th>bronze</th>\n",
       "</tr>\n",
       "</thead>\n",
       "<tbody>\n",
       "<tr>\n",
       "<td>United States (USA) [P] [Q] [R] [Z]</td>\n",
       "<td>26</td>\n",
       "<td>976</td>\n",
       "<td>757</td>\n",
       "<td>666</td>\n",
       "</tr>\n",
       "<tr>\n",
       "<td>Estonia (EST)</td>\n",
       "<td>11</td>\n",
       "<td>9</td>\n",
       "<td>9</td>\n",
       "<td>15</td>\n",
       "</tr>\n",
       "<tr>\n",
       "<td>India (IND) [F]</td>\n",
       "<td>23</td>\n",
       "<td>9</td>\n",
       "<td>6</td>\n",
       "<td>11</td>\n",
       "</tr>\n",
       "<tr>\n",
       "<td>Ireland (IRL)</td>\n",
       "<td>20</td>\n",
       "<td>9</td>\n",
       "<td>8</td>\n",
       "<td>12</td>\n",
       "</tr>\n",
       "<tr>\n",
       "<td>Romania (ROU)</td>\n",
       "<td>20</td>\n",
       "<td>88</td>\n",
       "<td>94</td>\n",
       "<td>119</td>\n",
       "</tr>\n",
       "</tbody>\n",
       "</table>\n",
       "<p><strong>...</strong></p>"
      ],
      "text/plain": [
       "+---------------------------------------+-------+-------+--------+--------+\n",
       "| country                               | games | gold  | silver | bronze |\n",
       "+=======================================+=======+=======+========+========+\n",
       "| 'United States (USA) [P] [Q] [R] [Z]' | '26'  | '976' | '757'  | '666'  |\n",
       "+---------------------------------------+-------+-------+--------+--------+\n",
       "| 'Estonia (EST)'                       | '11'  | '9'   | '9'    | '15'   |\n",
       "+---------------------------------------+-------+-------+--------+--------+\n",
       "| 'India (IND) [F]'                     | '23'  | '9'   | '6'    | '11'   |\n",
       "+---------------------------------------+-------+-------+--------+--------+\n",
       "| 'Ireland (IRL)'                       | '20'  | '9'   | '8'    | '12'   |\n",
       "+---------------------------------------+-------+-------+--------+--------+\n",
       "| 'Romania (ROU)'                       | '20'  | '88'  | '94'   | '119'  |\n",
       "+---------------------------------------+-------+-------+--------+--------+\n",
       "..."
      ]
     },
     "execution_count": 6,
     "metadata": {},
     "output_type": "execute_result"
    }
   ],
   "source": [
    "xlsx_df.sort('gold', reverse=True)"
   ]
  },
  {
   "cell_type": "markdown",
   "metadata": {},
   "source": [
    "Теперь мы можем посчитать общее количество медалей `addfield`"
   ]
  },
  {
   "cell_type": "code",
   "execution_count": 7,
   "metadata": {},
   "outputs": [
    {
     "data": {
      "text/html": [
       "<table class='petl'>\n",
       "<thead>\n",
       "<tr>\n",
       "<th>country</th>\n",
       "<th>games</th>\n",
       "<th>gold</th>\n",
       "<th>silver</th>\n",
       "<th>bronze</th>\n",
       "<th>total</th>\n",
       "</tr>\n",
       "</thead>\n",
       "<tbody>\n",
       "<tr>\n",
       "<td>Afghanistan (AFG)</td>\n",
       "<td>13</td>\n",
       "<td>0</td>\n",
       "<td>0</td>\n",
       "<td>2</td>\n",
       "<td>002</td>\n",
       "</tr>\n",
       "<tr>\n",
       "<td>Algeria (ALG)</td>\n",
       "<td>12</td>\n",
       "<td>5</td>\n",
       "<td>2</td>\n",
       "<td>8</td>\n",
       "<td>528</td>\n",
       "</tr>\n",
       "<tr>\n",
       "<td>Argentina (ARG)</td>\n",
       "<td>23</td>\n",
       "<td>18</td>\n",
       "<td>24</td>\n",
       "<td>28</td>\n",
       "<td>182428</td>\n",
       "</tr>\n",
       "<tr>\n",
       "<td>Armenia (ARM)</td>\n",
       "<td>5</td>\n",
       "<td>1</td>\n",
       "<td>2</td>\n",
       "<td>9</td>\n",
       "<td>129</td>\n",
       "</tr>\n",
       "<tr>\n",
       "<td>Australasia (ANZ) [ANZ]</td>\n",
       "<td>2</td>\n",
       "<td>3</td>\n",
       "<td>4</td>\n",
       "<td>5</td>\n",
       "<td>345</td>\n",
       "</tr>\n",
       "</tbody>\n",
       "</table>\n"
      ],
      "text/plain": [
       "+---------------------------+-------+------+--------+--------+----------+\n",
       "| country                   | games | gold | silver | bronze | total    |\n",
       "+===========================+=======+======+========+========+==========+\n",
       "| 'Afghanistan (AFG)'       | '13'  | '0'  | '0'    | '2'    | '002'    |\n",
       "+---------------------------+-------+------+--------+--------+----------+\n",
       "| 'Algeria (ALG)'           | '12'  | '5'  | '2'    | '8'    | '528'    |\n",
       "+---------------------------+-------+------+--------+--------+----------+\n",
       "| 'Argentina (ARG)'         | '23'  | '18' | '24'   | '28'   | '182428' |\n",
       "+---------------------------+-------+------+--------+--------+----------+\n",
       "| 'Armenia (ARM)'           | '5'   | '1'  | '2'    | '9'    | '129'    |\n",
       "+---------------------------+-------+------+--------+--------+----------+\n",
       "| 'Australasia (ANZ) [ANZ]' | '2'   | '3'  | '4'    | '5'    | '345'    |\n",
       "+---------------------------+-------+------+--------+--------+----------+"
      ]
     },
     "execution_count": 7,
     "metadata": {},
     "output_type": "execute_result"
    }
   ],
   "source": [
    "xlsx_df.addfield('total', lambda x: x['gold'] + x['silver'] + x['bronze']).head(5)"
   ]
  },
  {
   "cell_type": "markdown",
   "metadata": {},
   "source": [
    "Вместо того, чтобы получить суммы, мы просто склеили значения. Чтобы такого не происходило, будем переводить значения в целочисленные. Выясним, какая страна смогла набрать наибольшее число золотых медалей, отсортировав столбец gold по убыванию, с помощью функции `sort`"
   ]
  },
  {
   "cell_type": "code",
   "execution_count": 8,
   "metadata": {},
   "outputs": [
    {
     "data": {
      "text/html": [
       "<table class='petl'>\n",
       "<thead>\n",
       "<tr>\n",
       "<th>country</th>\n",
       "<th>games</th>\n",
       "<th>gold</th>\n",
       "<th>silver</th>\n",
       "<th>bronze</th>\n",
       "<th>total</th>\n",
       "</tr>\n",
       "</thead>\n",
       "<tbody>\n",
       "<tr>\n",
       "<td>United States (USA) [P] [Q] [R] [Z]</td>\n",
       "<td>26</td>\n",
       "<td>976</td>\n",
       "<td>757</td>\n",
       "<td>666</td>\n",
       "<td style='text-align: right'>2399</td>\n",
       "</tr>\n",
       "<tr>\n",
       "<td>Estonia (EST)</td>\n",
       "<td>11</td>\n",
       "<td>9</td>\n",
       "<td>9</td>\n",
       "<td>15</td>\n",
       "<td style='text-align: right'>33</td>\n",
       "</tr>\n",
       "<tr>\n",
       "<td>India (IND) [F]</td>\n",
       "<td>23</td>\n",
       "<td>9</td>\n",
       "<td>6</td>\n",
       "<td>11</td>\n",
       "<td style='text-align: right'>26</td>\n",
       "</tr>\n",
       "<tr>\n",
       "<td>Ireland (IRL)</td>\n",
       "<td>20</td>\n",
       "<td>9</td>\n",
       "<td>8</td>\n",
       "<td>12</td>\n",
       "<td style='text-align: right'>29</td>\n",
       "</tr>\n",
       "<tr>\n",
       "<td>Romania (ROU)</td>\n",
       "<td>20</td>\n",
       "<td>88</td>\n",
       "<td>94</td>\n",
       "<td>119</td>\n",
       "<td style='text-align: right'>301</td>\n",
       "</tr>\n",
       "</tbody>\n",
       "</table>\n"
      ],
      "text/plain": [
       "+---------------------------------------+-------+-------+--------+--------+-------+\n",
       "| country                               | games | gold  | silver | bronze | total |\n",
       "+=======================================+=======+=======+========+========+=======+\n",
       "| 'United States (USA) [P] [Q] [R] [Z]' | '26'  | '976' | '757'  | '666'  |  2399 |\n",
       "+---------------------------------------+-------+-------+--------+--------+-------+\n",
       "| 'Estonia (EST)'                       | '11'  | '9'   | '9'    | '15'   |    33 |\n",
       "+---------------------------------------+-------+-------+--------+--------+-------+\n",
       "| 'India (IND) [F]'                     | '23'  | '9'   | '6'    | '11'   |    26 |\n",
       "+---------------------------------------+-------+-------+--------+--------+-------+\n",
       "| 'Ireland (IRL)'                       | '20'  | '9'   | '8'    | '12'   |    29 |\n",
       "+---------------------------------------+-------+-------+--------+--------+-------+\n",
       "| 'Romania (ROU)'                       | '20'  | '88'  | '94'   | '119'  |   301 |\n",
       "+---------------------------------------+-------+-------+--------+--------+-------+"
      ]
     },
     "execution_count": 8,
     "metadata": {},
     "output_type": "execute_result"
    }
   ],
   "source": [
    "xlsx_df = xlsx_df.\\\n",
    "    addfield('total', lambda x: int(x['gold']) + int(x['silver']) + int(x['bronze']))\n",
    "xlsx_df.sort('gold', reverse=True).head(5)"
   ]
  },
  {
   "cell_type": "markdown",
   "metadata": {},
   "source": [
    "Видим, что в таблице есть сумма по всем странам, что нас не интересует в данной задаче. Можем выбрать из таблицы все строки, кроме строки со значением `country == Totals`. Воспользуемся функцией `select`.  \n",
    "\n",
    "Кроме того, выясним результативность страны, получив среднее число медалей за игру, и отсортируем по этому значению, чтобы выявить топ-5 стран."
   ]
  },
  {
   "cell_type": "code",
   "execution_count": 9,
   "metadata": {},
   "outputs": [
    {
     "data": {
      "text/html": [
       "<table class='petl'>\n",
       "<thead>\n",
       "<tr>\n",
       "<th>country</th>\n",
       "<th>games</th>\n",
       "<th>gold</th>\n",
       "<th>silver</th>\n",
       "<th>bronze</th>\n",
       "<th>total</th>\n",
       "<th>effectiveness</th>\n",
       "</tr>\n",
       "</thead>\n",
       "<tbody>\n",
       "<tr>\n",
       "<td>Soviet Union (URS) [URS]</td>\n",
       "<td>9</td>\n",
       "<td>395</td>\n",
       "<td>319</td>\n",
       "<td>296</td>\n",
       "<td style='text-align: right'>1010</td>\n",
       "<td style='text-align: right'>112.22</td>\n",
       "</tr>\n",
       "<tr>\n",
       "<td>Unified Team (EUN) [EUN]</td>\n",
       "<td>1</td>\n",
       "<td>45</td>\n",
       "<td>38</td>\n",
       "<td>29</td>\n",
       "<td style='text-align: right'>112</td>\n",
       "<td style='text-align: right'>112.0</td>\n",
       "</tr>\n",
       "<tr>\n",
       "<td>United States (USA) [P] [Q] [R] [Z]</td>\n",
       "<td>26</td>\n",
       "<td>976</td>\n",
       "<td>757</td>\n",
       "<td>666</td>\n",
       "<td style='text-align: right'>2399</td>\n",
       "<td style='text-align: right'>92.27</td>\n",
       "</tr>\n",
       "<tr>\n",
       "<td>East Germany (GDR) [GDR]</td>\n",
       "<td>5</td>\n",
       "<td>153</td>\n",
       "<td>129</td>\n",
       "<td>127</td>\n",
       "<td style='text-align: right'>409</td>\n",
       "<td style='text-align: right'>81.8</td>\n",
       "</tr>\n",
       "<tr>\n",
       "<td>Russia (RUS) [RUS]</td>\n",
       "<td>5</td>\n",
       "<td>132</td>\n",
       "<td>121</td>\n",
       "<td>142</td>\n",
       "<td style='text-align: right'>395</td>\n",
       "<td style='text-align: right'>79.0</td>\n",
       "</tr>\n",
       "</tbody>\n",
       "</table>\n"
      ],
      "text/plain": [
       "+---------------------------------------+-------+-------+--------+--------+-------+---------------+\n",
       "| country                               | games | gold  | silver | bronze | total | effectiveness |\n",
       "+=======================================+=======+=======+========+========+=======+===============+\n",
       "| 'Soviet Union (URS) [URS]'            | '9'   | '395' | '319'  | '296'  |  1010 |        112.22 |\n",
       "+---------------------------------------+-------+-------+--------+--------+-------+---------------+\n",
       "| 'Unified Team (EUN) [EUN]'            | '1'   | '45'  | '38'   | '29'   |   112 |         112.0 |\n",
       "+---------------------------------------+-------+-------+--------+--------+-------+---------------+\n",
       "| 'United States (USA) [P] [Q] [R] [Z]' | '26'  | '976' | '757'  | '666'  |  2399 |         92.27 |\n",
       "+---------------------------------------+-------+-------+--------+--------+-------+---------------+\n",
       "| 'East Germany (GDR) [GDR]'            | '5'   | '153' | '129'  | '127'  |   409 |          81.8 |\n",
       "+---------------------------------------+-------+-------+--------+--------+-------+---------------+\n",
       "| 'Russia (RUS) [RUS]'                  | '5'   | '132' | '121'  | '142'  |   395 |          79.0 |\n",
       "+---------------------------------------+-------+-------+--------+--------+-------+---------------+"
      ]
     },
     "execution_count": 9,
     "metadata": {},
     "output_type": "execute_result"
    }
   ],
   "source": [
    "result_xlsx_df = xlsx_df.\\\n",
    "    select(lambda x: x.country != 'Totals').\\\n",
    "    addfield('effectiveness', lambda x: round(x['total'] / float(x['games']), 2)).\\\n",
    "    sort('effectiveness', reverse=True)\n",
    "result_xlsx_df.head(5)"
   ]
  },
  {
   "cell_type": "markdown",
   "metadata": {},
   "source": [
    "Сохраним полученные результаты в новый xlsx-файл."
   ]
  },
  {
   "cell_type": "code",
   "execution_count": 10,
   "metadata": {},
   "outputs": [],
   "source": [
    "result_xlsx_df.toxlsx('output/olympics.xlsx')"
   ]
  },
  {
   "cell_type": "markdown",
   "metadata": {},
   "source": [
    "### Данные из открытого источника рынка акций"
   ]
  },
  {
   "cell_type": "code",
   "execution_count": 11,
   "metadata": {},
   "outputs": [],
   "source": [
    "js = requests.get('https://www.quandl.com/api/v3/datasets/WIKI/AAPL.json?start_date=2017-05-01&end_date=2017-07-01')"
   ]
  },
  {
   "cell_type": "code",
   "execution_count": 12,
   "metadata": {},
   "outputs": [],
   "source": [
    "stock_prices_json = js.json()"
   ]
  },
  {
   "cell_type": "code",
   "execution_count": 13,
   "metadata": {},
   "outputs": [
    {
     "data": {
      "text/plain": [
       "dict_keys(['id', 'dataset_code', 'database_code', 'name', 'description', 'refreshed_at', 'newest_available_date', 'oldest_available_date', 'column_names', 'frequency', 'type', 'premium', 'limit', 'transform', 'column_index', 'start_date', 'end_date', 'data', 'collapse', 'order', 'database_id'])"
      ]
     },
     "execution_count": 13,
     "metadata": {},
     "output_type": "execute_result"
    }
   ],
   "source": [
    "stock_prices_json['dataset'].keys()"
   ]
  },
  {
   "cell_type": "markdown",
   "metadata": {},
   "source": [
    "Нас интересуют два поля ответа: `column_names`, который мы будем использовать в качестве заголовков таблицы, и `data`, содержащий все необходимые данные. Для преобразования данных из объекта `dict` в таблицу `petl` сделаем следующее:  \n",
    "- Транспонируем содержимое `data`, чтобы превратить строки в столбцы  \n",
    "- Используем `column_names` в качестве значения параметра `header` функции `fromcolumns`"
   ]
  },
  {
   "cell_type": "code",
   "execution_count": 26,
   "metadata": {},
   "outputs": [
    {
     "data": {
      "text/html": [
       "<table class='petl'>\n",
       "<thead>\n",
       "<tr>\n",
       "<th>Date</th>\n",
       "<th>Open</th>\n",
       "<th>High</th>\n",
       "<th>Low</th>\n",
       "<th>Close</th>\n",
       "<th>Volume</th>\n",
       "<th>Ex-Dividend</th>\n",
       "<th>Split Ratio</th>\n",
       "<th>Adj. Open</th>\n",
       "<th>Adj. High</th>\n",
       "<th>Adj. Low</th>\n",
       "<th>Adj. Close</th>\n",
       "<th>Adj. Volume</th>\n",
       "</tr>\n",
       "</thead>\n",
       "<tbody>\n",
       "<tr>\n",
       "<td>None</td>\n",
       "<td>None</td>\n",
       "<td>None</td>\n",
       "<td>None</td>\n",
       "<td>None</td>\n",
       "<td>None</td>\n",
       "<td>None</td>\n",
       "<td>None</td>\n",
       "<td>None</td>\n",
       "<td>None</td>\n",
       "<td>None</td>\n",
       "<td>None</td>\n",
       "<td>None</td>\n",
       "</tr>\n",
       "<tr>\n",
       "<td>None</td>\n",
       "<td>None</td>\n",
       "<td>None</td>\n",
       "<td>None</td>\n",
       "<td>None</td>\n",
       "<td>None</td>\n",
       "<td>None</td>\n",
       "<td>None</td>\n",
       "<td>None</td>\n",
       "<td>None</td>\n",
       "<td>None</td>\n",
       "<td>None</td>\n",
       "<td>None</td>\n",
       "</tr>\n",
       "<tr>\n",
       "<td>None</td>\n",
       "<td>None</td>\n",
       "<td>None</td>\n",
       "<td>None</td>\n",
       "<td>None</td>\n",
       "<td>None</td>\n",
       "<td>None</td>\n",
       "<td>None</td>\n",
       "<td>None</td>\n",
       "<td>None</td>\n",
       "<td>None</td>\n",
       "<td>None</td>\n",
       "<td>None</td>\n",
       "</tr>\n",
       "<tr>\n",
       "<td>None</td>\n",
       "<td>None</td>\n",
       "<td>None</td>\n",
       "<td>None</td>\n",
       "<td>None</td>\n",
       "<td>None</td>\n",
       "<td>None</td>\n",
       "<td>None</td>\n",
       "<td>None</td>\n",
       "<td>None</td>\n",
       "<td>None</td>\n",
       "<td>None</td>\n",
       "<td>None</td>\n",
       "</tr>\n",
       "<tr>\n",
       "<td>None</td>\n",
       "<td>None</td>\n",
       "<td>None</td>\n",
       "<td>None</td>\n",
       "<td>None</td>\n",
       "<td>None</td>\n",
       "<td>None</td>\n",
       "<td>None</td>\n",
       "<td>None</td>\n",
       "<td>None</td>\n",
       "<td>None</td>\n",
       "<td>None</td>\n",
       "<td>None</td>\n",
       "</tr>\n",
       "</tbody>\n",
       "</table>\n",
       "<p><strong>...</strong></p>"
      ],
      "text/plain": [
       "+------+------+------+------+-------+--------+-------------+-------------+-----------+-----------+----------+------------+-------------+\n",
       "| Date | Open | High | Low  | Close | Volume | Ex-Dividend | Split Ratio | Adj. Open | Adj. High | Adj. Low | Adj. Close | Adj. Volume |\n",
       "+======+======+======+======+=======+========+=============+=============+===========+===========+==========+============+=============+\n",
       "| None | None | None | None | None  | None   | None        | None        | None      | None      | None     | None       | None        |\n",
       "+------+------+------+------+-------+--------+-------------+-------------+-----------+-----------+----------+------------+-------------+\n",
       "| None | None | None | None | None  | None   | None        | None        | None      | None      | None     | None       | None        |\n",
       "+------+------+------+------+-------+--------+-------------+-------------+-----------+-----------+----------+------------+-------------+\n",
       "| None | None | None | None | None  | None   | None        | None        | None      | None      | None     | None       | None        |\n",
       "+------+------+------+------+-------+--------+-------------+-------------+-----------+-----------+----------+------------+-------------+\n",
       "| None | None | None | None | None  | None   | None        | None        | None      | None      | None     | None       | None        |\n",
       "+------+------+------+------+-------+--------+-------------+-------------+-----------+-----------+----------+------------+-------------+\n",
       "| None | None | None | None | None  | None   | None        | None        | None      | None      | None     | None       | None        |\n",
       "+------+------+------+------+-------+--------+-------------+-------------+-----------+-----------+----------+------------+-------------+\n",
       "..."
      ]
     },
     "execution_count": 26,
     "metadata": {},
     "output_type": "execute_result"
    }
   ],
   "source": [
    "etl.fromdicts(stock_prices_json['dataset']['data'], header=stock_prices_json['dataset']['column_names'])"
   ]
  },
  {
   "cell_type": "code",
   "execution_count": 14,
   "metadata": {},
   "outputs": [
    {
     "data": {
      "text/html": [
       "<table class='petl'>\n",
       "<thead>\n",
       "<tr>\n",
       "<th>Date</th>\n",
       "<th>Open</th>\n",
       "<th>High</th>\n",
       "<th>Low</th>\n",
       "<th>Close</th>\n",
       "<th>Volume</th>\n",
       "<th>Ex-Dividend</th>\n",
       "<th>Split Ratio</th>\n",
       "<th>Adj. Open</th>\n",
       "<th>Adj. High</th>\n",
       "<th>Adj. Low</th>\n",
       "<th>Adj. Close</th>\n",
       "<th>Adj. Volume</th>\n",
       "</tr>\n",
       "</thead>\n",
       "<tbody>\n",
       "<tr>\n",
       "<td>2017-06-30</td>\n",
       "<td>144.45</td>\n",
       "<td>144.96</td>\n",
       "<td>143.78</td>\n",
       "<td>144.02</td>\n",
       "<td>22328979.0</td>\n",
       "<td>0.0</td>\n",
       "<td>1.0</td>\n",
       "<td>143.8662700449</td>\n",
       "<td>144.3742091084</td>\n",
       "<td>143.19897754971</td>\n",
       "<td>143.43800769724</td>\n",
       "<td>22328979.0</td>\n",
       "</tr>\n",
       "<tr>\n",
       "<td>2017-06-29</td>\n",
       "<td>144.71</td>\n",
       "<td>145.13</td>\n",
       "<td>142.28</td>\n",
       "<td>143.68</td>\n",
       "<td>31116980.0</td>\n",
       "<td>0.0</td>\n",
       "<td>1.0</td>\n",
       "<td>144.12521937139</td>\n",
       "<td>144.54352212957</td>\n",
       "<td>141.70503912765</td>\n",
       "<td>143.09938165491</td>\n",
       "<td>31116980.0</td>\n",
       "</tr>\n",
       "<tr>\n",
       "<td>2017-06-28</td>\n",
       "<td>144.49</td>\n",
       "<td>146.11</td>\n",
       "<td>143.1601</td>\n",
       "<td>145.83</td>\n",
       "<td>21915939.0</td>\n",
       "<td>0.0</td>\n",
       "<td>1.0</td>\n",
       "<td>143.90610840282</td>\n",
       "<td>145.51956189865</td>\n",
       "<td>142.58158259782</td>\n",
       "<td>145.2406933932</td>\n",
       "<td>21915939.0</td>\n",
       "</tr>\n",
       "</tbody>\n",
       "</table>\n"
      ],
      "text/plain": [
       "+--------------+----------+----------+------------+----------+--------------+-------------+-------------+-------------------+-------------------+-------------------+-------------------+--------------+\n",
       "| Date         | Open     | High     | Low        | Close    | Volume       | Ex-Dividend | Split Ratio | Adj. Open         | Adj. High         | Adj. Low          | Adj. Close        | Adj. Volume  |\n",
       "+==============+==========+==========+============+==========+==============+=============+=============+===================+===================+===================+===================+==============+\n",
       "| '2017-06-30' | '144.45' | '144.96' | '143.78'   | '144.02' | '22328979.0' | '0.0'       | '1.0'       | '143.8662700449'  | '144.3742091084'  | '143.19897754971' | '143.43800769724' | '22328979.0' |\n",
       "+--------------+----------+----------+------------+----------+--------------+-------------+-------------+-------------------+-------------------+-------------------+-------------------+--------------+\n",
       "| '2017-06-29' | '144.71' | '145.13' | '142.28'   | '143.68' | '31116980.0' | '0.0'       | '1.0'       | '144.12521937139' | '144.54352212957' | '141.70503912765' | '143.09938165491' | '31116980.0' |\n",
       "+--------------+----------+----------+------------+----------+--------------+-------------+-------------+-------------------+-------------------+-------------------+-------------------+--------------+\n",
       "| '2017-06-28' | '144.49' | '146.11' | '143.1601' | '145.83' | '21915939.0' | '0.0'       | '1.0'       | '143.90610840282' | '145.51956189865' | '142.58158259782' | '145.2406933932'  | '21915939.0' |\n",
       "+--------------+----------+----------+------------+----------+--------------+-------------+-------------+-------------------+-------------------+-------------------+-------------------+--------------+"
      ]
     },
     "execution_count": 14,
     "metadata": {},
     "output_type": "execute_result"
    }
   ],
   "source": [
    "columns = np.transpose(stock_prices_json['dataset']['data'])\n",
    "header = stock_prices_json['dataset']['column_names']\n",
    "df = etl.fromcolumns(columns, header)\n",
    "\n",
    "df.head(3)"
   ]
  },
  {
   "cell_type": "markdown",
   "metadata": {},
   "source": [
    "Уберём часть столбцов, все, содержащие `'Adj'`, переведём все значения в числа (где это возможно), вычислим разницу курса на определённую дату"
   ]
  },
  {
   "cell_type": "code",
   "execution_count": 15,
   "metadata": {},
   "outputs": [
    {
     "data": {
      "text/html": [
       "<table class='petl'>\n",
       "<thead>\n",
       "<tr>\n",
       "<th>Date</th>\n",
       "<th>Open</th>\n",
       "<th>High</th>\n",
       "<th>Low</th>\n",
       "<th>Close</th>\n",
       "<th>Volume</th>\n",
       "<th>Ex-Dividend</th>\n",
       "<th>Split Ratio</th>\n",
       "<th>Difference</th>\n",
       "</tr>\n",
       "</thead>\n",
       "<tbody>\n",
       "<tr>\n",
       "<td>2017-06-30</td>\n",
       "<td style='text-align: right'>144.45</td>\n",
       "<td style='text-align: right'>144.96</td>\n",
       "<td style='text-align: right'>143.78</td>\n",
       "<td style='text-align: right'>144.02</td>\n",
       "<td style='text-align: right'>22328979.0</td>\n",
       "<td style='text-align: right'>0.0</td>\n",
       "<td style='text-align: right'>1.0</td>\n",
       "<td style='text-align: right'>-0.43</td>\n",
       "</tr>\n",
       "<tr>\n",
       "<td>2017-06-29</td>\n",
       "<td style='text-align: right'>144.71</td>\n",
       "<td style='text-align: right'>145.13</td>\n",
       "<td style='text-align: right'>142.28</td>\n",
       "<td style='text-align: right'>143.68</td>\n",
       "<td style='text-align: right'>31116980.0</td>\n",
       "<td style='text-align: right'>0.0</td>\n",
       "<td style='text-align: right'>1.0</td>\n",
       "<td style='text-align: right'>-1.03</td>\n",
       "</tr>\n",
       "<tr>\n",
       "<td>2017-06-28</td>\n",
       "<td style='text-align: right'>144.49</td>\n",
       "<td style='text-align: right'>146.11</td>\n",
       "<td style='text-align: right'>143.1601</td>\n",
       "<td style='text-align: right'>145.83</td>\n",
       "<td style='text-align: right'>21915939.0</td>\n",
       "<td style='text-align: right'>0.0</td>\n",
       "<td style='text-align: right'>1.0</td>\n",
       "<td style='text-align: right'>1.34</td>\n",
       "</tr>\n",
       "<tr>\n",
       "<td>2017-06-27</td>\n",
       "<td style='text-align: right'>145.01</td>\n",
       "<td style='text-align: right'>146.16</td>\n",
       "<td style='text-align: right'>143.62</td>\n",
       "<td style='text-align: right'>143.74</td>\n",
       "<td style='text-align: right'>24423643.0</td>\n",
       "<td style='text-align: right'>0.0</td>\n",
       "<td style='text-align: right'>1.0</td>\n",
       "<td style='text-align: right'>-1.27</td>\n",
       "</tr>\n",
       "<tr>\n",
       "<td>2017-06-26</td>\n",
       "<td style='text-align: right'>147.17</td>\n",
       "<td style='text-align: right'>148.28</td>\n",
       "<td style='text-align: right'>145.38</td>\n",
       "<td style='text-align: right'>145.82</td>\n",
       "<td style='text-align: right'>25524661.0</td>\n",
       "<td style='text-align: right'>0.0</td>\n",
       "<td style='text-align: right'>1.0</td>\n",
       "<td style='text-align: right'>-1.35</td>\n",
       "</tr>\n",
       "</tbody>\n",
       "</table>\n"
      ],
      "text/plain": [
       "+--------------+--------+--------+----------+--------+------------+-------------+-------------+------------+\n",
       "| Date         | Open   | High   | Low      | Close  | Volume     | Ex-Dividend | Split Ratio | Difference |\n",
       "+==============+========+========+==========+========+============+=============+=============+============+\n",
       "| '2017-06-30' | 144.45 | 144.96 |   143.78 | 144.02 | 22328979.0 |         0.0 |         1.0 |      -0.43 |\n",
       "+--------------+--------+--------+----------+--------+------------+-------------+-------------+------------+\n",
       "| '2017-06-29' | 144.71 | 145.13 |   142.28 | 143.68 | 31116980.0 |         0.0 |         1.0 |      -1.03 |\n",
       "+--------------+--------+--------+----------+--------+------------+-------------+-------------+------------+\n",
       "| '2017-06-28' | 144.49 | 146.11 | 143.1601 | 145.83 | 21915939.0 |         0.0 |         1.0 |       1.34 |\n",
       "+--------------+--------+--------+----------+--------+------------+-------------+-------------+------------+\n",
       "| '2017-06-27' | 145.01 | 146.16 |   143.62 | 143.74 | 24423643.0 |         0.0 |         1.0 |      -1.27 |\n",
       "+--------------+--------+--------+----------+--------+------------+-------------+-------------+------------+\n",
       "| '2017-06-26' | 147.17 | 148.28 |   145.38 | 145.82 | 25524661.0 |         0.0 |         1.0 |      -1.35 |\n",
       "+--------------+--------+--------+----------+--------+------------+-------------+-------------+------------+"
      ]
     },
     "execution_count": 15,
     "metadata": {},
     "output_type": "execute_result"
    }
   ],
   "source": [
    "result_stock = df.\\\n",
    "    cutout(*(x for x in df.fieldnames() if 'Adj' in x)).\\\n",
    "    convertnumbers().\\\n",
    "    addfield('Difference', lambda row: round(row.Close - row.Open, 2))\n",
    "\n",
    "result_stock.head()"
   ]
  },
  {
   "cell_type": "markdown",
   "metadata": {},
   "source": [
    "Сохраним полученную табличку в csv-файл."
   ]
  },
  {
   "cell_type": "code",
   "execution_count": 16,
   "metadata": {},
   "outputs": [],
   "source": [
    "result_stock.tocsv('output/stock.csv')"
   ]
  },
  {
   "cell_type": "markdown",
   "metadata": {},
   "source": [
    "### Данные из БД"
   ]
  },
  {
   "cell_type": "markdown",
   "metadata": {},
   "source": [
    "Рассмотрим следующий пример.  \n",
    "Доступны данные о состояниях различных типов транспортных средств. В базе есть 2 таблицы:\n",
    "- `status_ts` содержит информацию о состояниях различных ТС  \n",
    "- `ts_types` содержит наименования типов ТС  \n",
    "\n",
    "Необходимо подготовить таблицу, содержащую валидные данные по бульдозерам:\n",
    "- В данных не должно быть пропусков  \n",
    "- Время указано в формате datetime  \n",
    "- Кроме данных по бульдозерам других нет  \n",
    "- Все состояния, кроме отсутствия данных  \n",
    "- Для каждого состояния рассчитана продолжительность"
   ]
  },
  {
   "cell_type": "code",
   "execution_count": 17,
   "metadata": {},
   "outputs": [],
   "source": [
    "connection = psycopg2.connect(\"dbname=etl user=etl password=xzdp9PGRLTTG48zS\", host='localhost')\n",
    "\n",
    "statuses = etl.fromdb(connection, 'SELECT * FROM status_ts')\n",
    "ts_types = etl.fromdb(connection, 'SELECT * FROM ts_types')\n",
    "\n",
    "# Вспомогательные функции\n",
    "# Определяем фильтр для исключения строк с пустыми значениями\n",
    "row_without_nones = lambda x: all(x[field] != '' for field in statuses.fieldnames())\n",
    "# Перевод отметки времени в формат datetime\n",
    "to_datetime = lambda x: dt.fromtimestamp(int(x))"
   ]
  },
  {
   "cell_type": "markdown",
   "metadata": {},
   "source": [
    "Чтобы исключить строки с пропусками, используем функцию `select` и определенный выше фильтр `row_without_nones`"
   ]
  },
  {
   "cell_type": "code",
   "execution_count": 18,
   "metadata": {},
   "outputs": [
    {
     "data": {
      "text/html": [
       "<table class='petl'>\n",
       "<thead>\n",
       "<tr>\n",
       "<th>Начало</th>\n",
       "<th>Окончание</th>\n",
       "<th>id ТС</th>\n",
       "<th>Состояние</th>\n",
       "<th>Максимальная скорость</th>\n",
       "<th>Средняя скорость</th>\n",
       "<th>Пробег</th>\n",
       "</tr>\n",
       "</thead>\n",
       "<tbody>\n",
       "<tr>\n",
       "<td>1555202473</td>\n",
       "<td>1555205804</td>\n",
       "<td>1</td>\n",
       "<td>Поездка</td>\n",
       "<td>45.0</td>\n",
       "<td>15.0</td>\n",
       "<td>12.49</td>\n",
       "</tr>\n",
       "<tr>\n",
       "<td>1555217924</td>\n",
       "<td>1555222978</td>\n",
       "<td>9</td>\n",
       "<td>Поездка</td>\n",
       "<td>45.0</td>\n",
       "<td>15.0</td>\n",
       "<td>18.95</td>\n",
       "</tr>\n",
       "<tr>\n",
       "<td>1555227223</td>\n",
       "<td>1555233071</td>\n",
       "<td>4</td>\n",
       "<td>Отсутствие данных</td>\n",
       "<td>39.0</td>\n",
       "<td>13.0</td>\n",
       "<td>19.01</td>\n",
       "</tr>\n",
       "<tr>\n",
       "<td>1555232810</td>\n",
       "<td>1555241522</td>\n",
       "<td>6</td>\n",
       "<td>Остановка</td>\n",
       "<td>33.0</td>\n",
       "<td>11.0</td>\n",
       "<td>23.96</td>\n",
       "</tr>\n",
       "<tr>\n",
       "<td>1555233670</td>\n",
       "<td>1555241008</td>\n",
       "<td>3</td>\n",
       "<td>Заправка</td>\n",
       "<td>21.0</td>\n",
       "<td>7.0</td>\n",
       "<td>12.84</td>\n",
       "</tr>\n",
       "</tbody>\n",
       "</table>\n",
       "<p><strong>...</strong></p>"
      ],
      "text/plain": [
       "+--------------+--------------+-------+---------------------+-----------------------+------------------+---------+\n",
       "| Начало       | Окончание    | id ТС | Состояние           | Максимальная скорость | Средняя скорость | Пробег  |\n",
       "+==============+==============+=======+=====================+=======================+==================+=========+\n",
       "| '1555202473' | '1555205804' | '1'   | 'Поездка'           | '45.0'                | '15.0'           | '12.49' |\n",
       "+--------------+--------------+-------+---------------------+-----------------------+------------------+---------+\n",
       "| '1555217924' | '1555222978' | '9'   | 'Поездка'           | '45.0'                | '15.0'           | '18.95' |\n",
       "+--------------+--------------+-------+---------------------+-----------------------+------------------+---------+\n",
       "| '1555227223' | '1555233071' | '4'   | 'Отсутствие данных' | '39.0'                | '13.0'           | '19.01' |\n",
       "+--------------+--------------+-------+---------------------+-----------------------+------------------+---------+\n",
       "| '1555232810' | '1555241522' | '6'   | 'Остановка'         | '33.0'                | '11.0'           | '23.96' |\n",
       "+--------------+--------------+-------+---------------------+-----------------------+------------------+---------+\n",
       "| '1555233670' | '1555241008' | '3'   | 'Заправка'          | '21.0'                | '7.0'            | '12.84' |\n",
       "+--------------+--------------+-------+---------------------+-----------------------+------------------+---------+\n",
       "..."
      ]
     },
     "execution_count": 18,
     "metadata": {},
     "output_type": "execute_result"
    }
   ],
   "source": [
    "statuses.select(row_without_nones)"
   ]
  },
  {
   "cell_type": "markdown",
   "metadata": {},
   "source": [
    "Переведём столбцы со временем в требуемый формат. Для этого необходимо воспользоваться функцией `convert`.\n",
    "\n",
    "Сразу можем добавить расчёт продолжительности функцией `addfield`.  "
   ]
  },
  {
   "cell_type": "code",
   "execution_count": 19,
   "metadata": {},
   "outputs": [
    {
     "data": {
      "text/html": [
       "<table class='petl'>\n",
       "<thead>\n",
       "<tr>\n",
       "<th>Начало</th>\n",
       "<th>Окончание</th>\n",
       "<th>id ТС</th>\n",
       "<th>Состояние</th>\n",
       "<th>Максимальная скорость</th>\n",
       "<th>Средняя скорость</th>\n",
       "<th>Пробег</th>\n",
       "<th>Продолжительность</th>\n",
       "</tr>\n",
       "</thead>\n",
       "<tbody>\n",
       "<tr>\n",
       "<td>2019-04-14 00:41:13</td>\n",
       "<td>2019-04-14 01:36:44</td>\n",
       "<td>1</td>\n",
       "<td>Поездка</td>\n",
       "<td>45.0</td>\n",
       "<td>15.0</td>\n",
       "<td>12.49</td>\n",
       "<td>0:55:31</td>\n",
       "</tr>\n",
       "<tr>\n",
       "<td>2019-04-14 04:58:44</td>\n",
       "<td>2019-04-14 06:22:58</td>\n",
       "<td>9</td>\n",
       "<td>Поездка</td>\n",
       "<td>45.0</td>\n",
       "<td>15.0</td>\n",
       "<td>18.95</td>\n",
       "<td>1:24:14</td>\n",
       "</tr>\n",
       "<tr>\n",
       "<td>2019-04-14 07:33:43</td>\n",
       "<td>2019-04-14 09:11:11</td>\n",
       "<td>4</td>\n",
       "<td>Отсутствие данных</td>\n",
       "<td>39.0</td>\n",
       "<td>13.0</td>\n",
       "<td>19.01</td>\n",
       "<td>1:37:28</td>\n",
       "</tr>\n",
       "<tr>\n",
       "<td>2019-04-14 09:06:50</td>\n",
       "<td>2019-04-14 11:32:02</td>\n",
       "<td>6</td>\n",
       "<td>Остановка</td>\n",
       "<td>33.0</td>\n",
       "<td>11.0</td>\n",
       "<td>23.96</td>\n",
       "<td>2:25:12</td>\n",
       "</tr>\n",
       "<tr>\n",
       "<td>2019-04-14 09:21:10</td>\n",
       "<td>2019-04-14 11:23:28</td>\n",
       "<td>3</td>\n",
       "<td>Заправка</td>\n",
       "<td>21.0</td>\n",
       "<td>7.0</td>\n",
       "<td>12.84</td>\n",
       "<td>2:02:18</td>\n",
       "</tr>\n",
       "</tbody>\n",
       "</table>\n",
       "<p><strong>...</strong></p>"
      ],
      "text/plain": [
       "+-------------------------------------------+--------------------------------------------+-------+---------------------+-----------------------+------------------+---------+-----------------------------+\n",
       "| Начало                                    | Окончание                                  | id ТС | Состояние           | Максимальная скорость | Средняя скорость | Пробег  | Продолжительность           |\n",
       "+===========================================+============================================+=======+=====================+=======================+==================+=========+=============================+\n",
       "| datetime.datetime(2019, 4, 14, 0, 41, 13) | datetime.datetime(2019, 4, 14, 1, 36, 44)  | '1'   | 'Поездка'           | '45.0'                | '15.0'           | '12.49' | datetime.timedelta(0, 3331) |\n",
       "+-------------------------------------------+--------------------------------------------+-------+---------------------+-----------------------+------------------+---------+-----------------------------+\n",
       "| datetime.datetime(2019, 4, 14, 4, 58, 44) | datetime.datetime(2019, 4, 14, 6, 22, 58)  | '9'   | 'Поездка'           | '45.0'                | '15.0'           | '18.95' | datetime.timedelta(0, 5054) |\n",
       "+-------------------------------------------+--------------------------------------------+-------+---------------------+-----------------------+------------------+---------+-----------------------------+\n",
       "| datetime.datetime(2019, 4, 14, 7, 33, 43) | datetime.datetime(2019, 4, 14, 9, 11, 11)  | '4'   | 'Отсутствие данных' | '39.0'                | '13.0'           | '19.01' | datetime.timedelta(0, 5848) |\n",
       "+-------------------------------------------+--------------------------------------------+-------+---------------------+-----------------------+------------------+---------+-----------------------------+\n",
       "| datetime.datetime(2019, 4, 14, 9, 6, 50)  | datetime.datetime(2019, 4, 14, 11, 32, 2)  | '6'   | 'Остановка'         | '33.0'                | '11.0'           | '23.96' | datetime.timedelta(0, 8712) |\n",
       "+-------------------------------------------+--------------------------------------------+-------+---------------------+-----------------------+------------------+---------+-----------------------------+\n",
       "| datetime.datetime(2019, 4, 14, 9, 21, 10) | datetime.datetime(2019, 4, 14, 11, 23, 28) | '3'   | 'Заправка'          | '21.0'                | '7.0'            | '12.84' | datetime.timedelta(0, 7338) |\n",
       "+-------------------------------------------+--------------------------------------------+-------+---------------------+-----------------------+------------------+---------+-----------------------------+\n",
       "..."
      ]
     },
     "execution_count": 19,
     "metadata": {},
     "output_type": "execute_result"
    }
   ],
   "source": [
    "statuses.\\\n",
    "    convert('Начало', to_datetime).\\\n",
    "    convert('Окончание', to_datetime).\\\n",
    "    addfield('Продолжительность', lambda x: x['Окончание'] - x['Начало'])"
   ]
  },
  {
   "cell_type": "markdown",
   "metadata": {},
   "source": [
    "Объединим обе таблицы и выберем данные только по бульдозерам, сразу уберём строки с состоянием \"Отсутствие данных\"."
   ]
  },
  {
   "cell_type": "code",
   "execution_count": 20,
   "metadata": {},
   "outputs": [
    {
     "data": {
      "text/html": [
       "<table class='petl'>\n",
       "<thead>\n",
       "<tr>\n",
       "<th>Начало</th>\n",
       "<th>Окончание</th>\n",
       "<th>id ТС</th>\n",
       "<th>Состояние</th>\n",
       "<th>Максимальная скорость</th>\n",
       "<th>Средняя скорость</th>\n",
       "<th>Пробег</th>\n",
       "<th>Тип ТС</th>\n",
       "</tr>\n",
       "</thead>\n",
       "<tbody>\n",
       "<tr>\n",
       "<td>1555202473</td>\n",
       "<td>1555205804</td>\n",
       "<td>1</td>\n",
       "<td>Поездка</td>\n",
       "<td>45.0</td>\n",
       "<td>15.0</td>\n",
       "<td>12.49</td>\n",
       "<td>Бульдозер колесный</td>\n",
       "</tr>\n",
       "<tr>\n",
       "<td>1555248579</td>\n",
       "<td>1555249401</td>\n",
       "<td>1</td>\n",
       "<td>Заправка</td>\n",
       "<td>56.0</td>\n",
       "<td>19.0</td>\n",
       "<td>3.9</td>\n",
       "<td>Бульдозер колесный</td>\n",
       "</tr>\n",
       "<tr>\n",
       "<td>1555256061</td>\n",
       "<td>1555257832</td>\n",
       "<td>1</td>\n",
       "<td>Заправка</td>\n",
       "<td></td>\n",
       "<td>17.0</td>\n",
       "<td>7.53</td>\n",
       "<td>Бульдозер колесный</td>\n",
       "</tr>\n",
       "<tr>\n",
       "<td>1555259761</td>\n",
       "<td>1555266553</td>\n",
       "<td>1</td>\n",
       "<td>Стоянка</td>\n",
       "<td>25.0</td>\n",
       "<td>8.0</td>\n",
       "<td>13.58</td>\n",
       "<td>Бульдозер колесный</td>\n",
       "</tr>\n",
       "<tr>\n",
       "<td>1555261083</td>\n",
       "<td>1555272591</td>\n",
       "<td>1</td>\n",
       "<td>Заправка</td>\n",
       "<td>11.0</td>\n",
       "<td>4.0</td>\n",
       "<td>11.51</td>\n",
       "<td>Бульдозер колесный</td>\n",
       "</tr>\n",
       "</tbody>\n",
       "</table>\n",
       "<p><strong>...</strong></p>"
      ],
      "text/plain": [
       "+--------------+--------------+-------+------------+-----------------------+------------------+---------+----------------------+\n",
       "| Начало       | Окончание    | id ТС | Состояние  | Максимальная скорость | Средняя скорость | Пробег  | Тип ТС               |\n",
       "+==============+==============+=======+============+=======================+==================+=========+======================+\n",
       "| '1555202473' | '1555205804' | '1'   | 'Поездка'  | '45.0'                | '15.0'           | '12.49' | 'Бульдозер колесный' |\n",
       "+--------------+--------------+-------+------------+-----------------------+------------------+---------+----------------------+\n",
       "| '1555248579' | '1555249401' | '1'   | 'Заправка' | '56.0'                | '19.0'           | '3.9'   | 'Бульдозер колесный' |\n",
       "+--------------+--------------+-------+------------+-----------------------+------------------+---------+----------------------+\n",
       "| '1555256061' | '1555257832' | '1'   | 'Заправка' | ''                    | '17.0'           | '7.53'  | 'Бульдозер колесный' |\n",
       "+--------------+--------------+-------+------------+-----------------------+------------------+---------+----------------------+\n",
       "| '1555259761' | '1555266553' | '1'   | 'Стоянка'  | '25.0'                | '8.0'            | '13.58' | 'Бульдозер колесный' |\n",
       "+--------------+--------------+-------+------------+-----------------------+------------------+---------+----------------------+\n",
       "| '1555261083' | '1555272591' | '1'   | 'Заправка' | '11.0'                | '4.0'            | '11.51' | 'Бульдозер колесный' |\n",
       "+--------------+--------------+-------+------------+-----------------------+------------------+---------+----------------------+\n",
       "..."
      ]
     },
     "execution_count": 20,
     "metadata": {},
     "output_type": "execute_result"
    }
   ],
   "source": [
    "statuses.\\\n",
    "    join(ts_types, lkey='id ТС', rkey='id').\\\n",
    "    select(lambda x: 'Бульдозер' in x['Тип ТС'] and x['Состояние'] != 'Отсутствие данных')"
   ]
  },
  {
   "cell_type": "markdown",
   "metadata": {},
   "source": [
    "Все перечисленные операции можно произвести за раз, сформируем цепочку функций. \n",
    "\n",
    "Заметим, что столбец `id ТС` уже не требуется, его можно убрать функцией `cutout`.\n",
    "\n",
    "В дополнение ко всему отсортируем таблицу по времени начала состояний, применив `sort`."
   ]
  },
  {
   "cell_type": "code",
   "execution_count": 21,
   "metadata": {},
   "outputs": [],
   "source": [
    "result_df = statuses.\\\n",
    "    join(ts_types, lkey='id ТС', rkey='id').\\\n",
    "    select(lambda x: 'Бульдозер' in x['Тип ТС'] and x['Состояние'] != 'Отсутствие данных').\\\n",
    "    select(row_without_nones).\\\n",
    "    convert('Начало', to_datetime).\\\n",
    "    convert('Окончание', to_datetime).\\\n",
    "    addfield('Продолжительность', lambda x: x['Окончание'] - x['Начало']).\\\n",
    "    convert('Начало', str).convert('Окончание', str).convert('Продолжительность', str).\\\n",
    "    cutout('id ТС').\\\n",
    "    sort('Начало')"
   ]
  },
  {
   "cell_type": "code",
   "execution_count": 22,
   "metadata": {},
   "outputs": [
    {
     "data": {
      "text/html": [
       "<table class='petl'>\n",
       "<thead>\n",
       "<tr>\n",
       "<th>Начало</th>\n",
       "<th>Окончание</th>\n",
       "<th>Состояние</th>\n",
       "<th>Максимальная скорость</th>\n",
       "<th>Средняя скорость</th>\n",
       "<th>Пробег</th>\n",
       "<th>Тип ТС</th>\n",
       "<th>Продолжительность</th>\n",
       "</tr>\n",
       "</thead>\n",
       "<tbody>\n",
       "<tr>\n",
       "<td>2019-04-14 00:41:13</td>\n",
       "<td>2019-04-14 01:36:44</td>\n",
       "<td>Поездка</td>\n",
       "<td>45.0</td>\n",
       "<td>15.0</td>\n",
       "<td>12.49</td>\n",
       "<td>Бульдозер колесный</td>\n",
       "<td>0:55:31</td>\n",
       "</tr>\n",
       "<tr>\n",
       "<td>2019-04-14 13:29:39</td>\n",
       "<td>2019-04-14 13:43:21</td>\n",
       "<td>Заправка</td>\n",
       "<td>56.0</td>\n",
       "<td>19.0</td>\n",
       "<td>3.9</td>\n",
       "<td>Бульдозер колесный</td>\n",
       "<td>0:13:42</td>\n",
       "</tr>\n",
       "<tr>\n",
       "<td>2019-04-14 16:24:02</td>\n",
       "<td>2019-04-14 19:06:27</td>\n",
       "<td>Остановка</td>\n",
       "<td>13.0</td>\n",
       "<td>4.0</td>\n",
       "<td>9.74</td>\n",
       "<td>Бульдозер гусеничный</td>\n",
       "<td>2:42:25</td>\n",
       "</tr>\n",
       "<tr>\n",
       "<td>2019-04-14 16:36:01</td>\n",
       "<td>2019-04-14 18:29:13</td>\n",
       "<td>Стоянка</td>\n",
       "<td>25.0</td>\n",
       "<td>8.0</td>\n",
       "<td>13.58</td>\n",
       "<td>Бульдозер колесный</td>\n",
       "<td>1:53:12</td>\n",
       "</tr>\n",
       "<tr>\n",
       "<td>2019-04-14 16:58:03</td>\n",
       "<td>2019-04-14 20:09:51</td>\n",
       "<td>Заправка</td>\n",
       "<td>11.0</td>\n",
       "<td>4.0</td>\n",
       "<td>11.51</td>\n",
       "<td>Бульдозер колесный</td>\n",
       "<td>3:11:48</td>\n",
       "</tr>\n",
       "</tbody>\n",
       "</table>\n",
       "<p><strong>...</strong></p>"
      ],
      "text/plain": [
       "+-----------------------+-----------------------+-------------+-----------------------+------------------+---------+------------------------+-------------------+\n",
       "| Начало                | Окончание             | Состояние   | Максимальная скорость | Средняя скорость | Пробег  | Тип ТС                 | Продолжительность |\n",
       "+=======================+=======================+=============+=======================+==================+=========+========================+===================+\n",
       "| '2019-04-14 00:41:13' | '2019-04-14 01:36:44' | 'Поездка'   | '45.0'                | '15.0'           | '12.49' | 'Бульдозер колесный'   | '0:55:31'         |\n",
       "+-----------------------+-----------------------+-------------+-----------------------+------------------+---------+------------------------+-------------------+\n",
       "| '2019-04-14 13:29:39' | '2019-04-14 13:43:21' | 'Заправка'  | '56.0'                | '19.0'           | '3.9'   | 'Бульдозер колесный'   | '0:13:42'         |\n",
       "+-----------------------+-----------------------+-------------+-----------------------+------------------+---------+------------------------+-------------------+\n",
       "| '2019-04-14 16:24:02' | '2019-04-14 19:06:27' | 'Остановка' | '13.0'                | '4.0'            | '9.74'  | 'Бульдозер гусеничный' | '2:42:25'         |\n",
       "+-----------------------+-----------------------+-------------+-----------------------+------------------+---------+------------------------+-------------------+\n",
       "| '2019-04-14 16:36:01' | '2019-04-14 18:29:13' | 'Стоянка'   | '25.0'                | '8.0'            | '13.58' | 'Бульдозер колесный'   | '1:53:12'         |\n",
       "+-----------------------+-----------------------+-------------+-----------------------+------------------+---------+------------------------+-------------------+\n",
       "| '2019-04-14 16:58:03' | '2019-04-14 20:09:51' | 'Заправка'  | '11.0'                | '4.0'            | '11.51' | 'Бульдозер колесный'   | '3:11:48'         |\n",
       "+-----------------------+-----------------------+-------------+-----------------------+------------------+---------+------------------------+-------------------+\n",
       "..."
      ]
     },
     "execution_count": 22,
     "metadata": {},
     "output_type": "execute_result"
    }
   ],
   "source": [
    "result_df"
   ]
  },
  {
   "cell_type": "code",
   "execution_count": 23,
   "metadata": {},
   "outputs": [],
   "source": [
    "# Импортируем библиотеку, позволяющую создавать таблицы в БД\n",
    "import sqlalchemy as db\n",
    "\n",
    "# Подготовим подключение\n",
    "_user = 'etl'\n",
    "_pass = 'xzdp9PGRLTTG48zS'\n",
    "_host = 'localhost'\n",
    "_port = 5432\n",
    "target_db = db.create_engine(f\"postgres://{_user}:{_pass}@{_host}:{_port}/etl\")\n",
    "\n",
    "result_df.todb(target_db, 'status_cleaned', create=True, drop=True, sample=0)"
   ]
  },
  {
   "cell_type": "markdown",
   "metadata": {},
   "source": [
    "Проверим, что таблица создалась."
   ]
  },
  {
   "cell_type": "code",
   "execution_count": 24,
   "metadata": {},
   "outputs": [
    {
     "data": {
      "text/html": [
       "<table class='petl'>\n",
       "<thead>\n",
       "<tr>\n",
       "<th>Начало</th>\n",
       "<th>Окончание</th>\n",
       "<th>Состояние</th>\n",
       "<th>Максимальная скорость</th>\n",
       "<th>Средняя скорость</th>\n",
       "<th>Пробег</th>\n",
       "<th>Тип ТС</th>\n",
       "<th>Продолжительность</th>\n",
       "</tr>\n",
       "</thead>\n",
       "<tbody>\n",
       "<tr>\n",
       "<td>2019-04-14 00:41:13</td>\n",
       "<td>2019-04-14 01:36:44</td>\n",
       "<td>Поездка</td>\n",
       "<td>45.0</td>\n",
       "<td>15.0</td>\n",
       "<td>12.49</td>\n",
       "<td>Бульдозер колесный</td>\n",
       "<td>0:55:31</td>\n",
       "</tr>\n",
       "<tr>\n",
       "<td>2019-04-14 13:29:39</td>\n",
       "<td>2019-04-14 13:43:21</td>\n",
       "<td>Заправка</td>\n",
       "<td>56.0</td>\n",
       "<td>19.0</td>\n",
       "<td>3.9</td>\n",
       "<td>Бульдозер колесный</td>\n",
       "<td>0:13:42</td>\n",
       "</tr>\n",
       "<tr>\n",
       "<td>2019-04-14 16:24:02</td>\n",
       "<td>2019-04-14 19:06:27</td>\n",
       "<td>Остановка</td>\n",
       "<td>13.0</td>\n",
       "<td>4.0</td>\n",
       "<td>9.74</td>\n",
       "<td>Бульдозер гусеничный</td>\n",
       "<td>2:42:25</td>\n",
       "</tr>\n",
       "<tr>\n",
       "<td>2019-04-14 16:36:01</td>\n",
       "<td>2019-04-14 18:29:13</td>\n",
       "<td>Стоянка</td>\n",
       "<td>25.0</td>\n",
       "<td>8.0</td>\n",
       "<td>13.58</td>\n",
       "<td>Бульдозер колесный</td>\n",
       "<td>1:53:12</td>\n",
       "</tr>\n",
       "<tr>\n",
       "<td>2019-04-14 16:58:03</td>\n",
       "<td>2019-04-14 20:09:51</td>\n",
       "<td>Заправка</td>\n",
       "<td>11.0</td>\n",
       "<td>4.0</td>\n",
       "<td>11.51</td>\n",
       "<td>Бульдозер колесный</td>\n",
       "<td>3:11:48</td>\n",
       "</tr>\n",
       "</tbody>\n",
       "</table>\n",
       "<p><strong>...</strong></p>"
      ],
      "text/plain": [
       "+-----------------------+-----------------------+-------------+-----------------------+------------------+---------+------------------------+-------------------+\n",
       "| Начало                | Окончание             | Состояние   | Максимальная скорость | Средняя скорость | Пробег  | Тип ТС                 | Продолжительность |\n",
       "+=======================+=======================+=============+=======================+==================+=========+========================+===================+\n",
       "| '2019-04-14 00:41:13' | '2019-04-14 01:36:44' | 'Поездка'   | '45.0'                | '15.0'           | '12.49' | 'Бульдозер колесный'   | '0:55:31'         |\n",
       "+-----------------------+-----------------------+-------------+-----------------------+------------------+---------+------------------------+-------------------+\n",
       "| '2019-04-14 13:29:39' | '2019-04-14 13:43:21' | 'Заправка'  | '56.0'                | '19.0'           | '3.9'   | 'Бульдозер колесный'   | '0:13:42'         |\n",
       "+-----------------------+-----------------------+-------------+-----------------------+------------------+---------+------------------------+-------------------+\n",
       "| '2019-04-14 16:24:02' | '2019-04-14 19:06:27' | 'Остановка' | '13.0'                | '4.0'            | '9.74'  | 'Бульдозер гусеничный' | '2:42:25'         |\n",
       "+-----------------------+-----------------------+-------------+-----------------------+------------------+---------+------------------------+-------------------+\n",
       "| '2019-04-14 16:36:01' | '2019-04-14 18:29:13' | 'Стоянка'   | '25.0'                | '8.0'            | '13.58' | 'Бульдозер колесный'   | '1:53:12'         |\n",
       "+-----------------------+-----------------------+-------------+-----------------------+------------------+---------+------------------------+-------------------+\n",
       "| '2019-04-14 16:58:03' | '2019-04-14 20:09:51' | 'Заправка'  | '11.0'                | '4.0'            | '11.51' | 'Бульдозер колесный'   | '3:11:48'         |\n",
       "+-----------------------+-----------------------+-------------+-----------------------+------------------+---------+------------------------+-------------------+\n",
       "..."
      ]
     },
     "execution_count": 24,
     "metadata": {},
     "output_type": "execute_result"
    }
   ],
   "source": [
    "etl.fromdb(connection, 'SELECT * FROM status_cleaned')"
   ]
  }
 ],
 "metadata": {
  "kernelspec": {
   "display_name": "Python (Prod Env)",
   "language": "python",
   "name": "prod"
  },
  "language_info": {
   "codemirror_mode": {
    "name": "ipython",
    "version": 3
   },
   "file_extension": ".py",
   "mimetype": "text/x-python",
   "name": "python",
   "nbconvert_exporter": "python",
   "pygments_lexer": "ipython3",
   "version": "3.6.10"
  }
 },
 "nbformat": 4,
 "nbformat_minor": 4
}
